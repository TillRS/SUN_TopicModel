{
 "cells": [
  {
   "cell_type": "markdown",
   "metadata": {},
   "source": [
    "# Sample use of the sun topic model "
   ]
  },
  {
   "cell_type": "code",
   "execution_count": 11,
   "metadata": {},
   "outputs": [],
   "source": [
    "import numpy as np\n",
    "from sun_topicmodel import suntopic\n",
    "import matplotlib.pyplot as plt\n",
    "import pandas as pd"
   ]
  },
  {
   "cell_type": "code",
   "execution_count": 14,
   "metadata": {},
   "outputs": [
    {
     "name": "stdout",
     "output_type": "stream",
     "text": [
      "coeff_true: [ 0.37623932  0.96743045  1.59826729 -0.43503633 -1.06292707 -1.35712958\n",
      "  0.57855717  0.54202354  1.28877997  1.8068061 ]\n"
     ]
    },
    {
     "data": {
      "image/png": "[encoded data removed]",
      "text/plain": [
       "<Figure size 600x400 with 1 Axes>"
      ]
     },
     "metadata": {},
     "output_type": "display_data"
    }
   ],
   "source": [
    "# Generate random data as the 'embeddings' for the 'documents' in the corpus\n",
    "np.random.seed(2024)\n",
    "n = 2000\n",
    "m = 500\n",
    "J = 10\n",
    "W_t = np.random.rand(n, J)\n",
    "H_t = np.random.rand(J, m)\n",
    "X = np.dot(W_t, H_t) + np.random.rand(n, m) * 0.1\n",
    "coef_true = np.random.normal(0, 1, J)\n",
    "Y = np.dot(W_t, coef_true) + np.random.rand(n) * 0.1\n",
    "print(f\"coeff_true: {coef_true}\")\n",
    "\n",
    "sorted_indices = np.argsort(np.abs(coef_true))[::-1]\n",
    "sorted_coef_true = coef_true[sorted_indices]\n",
    "\n",
    "# Set font to Computer Modern\n",
    "plt.rcParams[\"text.usetex\"] = True\n",
    "\n",
    "# Plot the parameters\n",
    "fig, ax = plt.subplots(figsize=(6, 4))\n",
    "\n",
    "for i, param in enumerate(sorted_coef_true):\n",
    "    ax.axhline(i, color=\"gray\", linestyle=\"--\", linewidth=0.5, alpha=0.5)\n",
    "    ax.scatter(param, i, marker=\"x\", s=15, color=\"blue\", zorder=10)\n",
    "\n",
    "\n",
    "# Customize the plot\n",
    "ax.axvline(0, color=\"black\", linestyle=\"--\", linewidth=1)  # Add a vertical line at x=0\n",
    "ax.yaxis.tick_left()\n",
    "ax.invert_yaxis()  # Flip the graph\n",
    "ax.set_yticks(np.arange(len(sorted_coef_true)))\n",
    "ax.set_yticklabels([f\"({i+1})\" for i in sorted_indices], fontsize=12)\n",
    "ax.set_xlabel(\"True Effects\", fontsize=12)\n",
    "ax.set_title(\"True Effects sorted by absolute value\", fontsize=14)\n",
    "\n",
    "# Save or show the plot\n",
    "plt.tight_layout()\n",
    "plt.show()"
   ]
  },
  {
   "cell_type": "code",
   "execution_count": 15,
   "metadata": {},
   "outputs": [
    {
     "name": "stdout",
     "output_type": "stream",
     "text": [
      "Suntopic Model Summary\n",
      "==================================================\n",
      "Number of topics:  3\n",
      "Alpha:  0.5\n",
      "Data shape:  (1500, 501)\n",
      "Model:  <sun_topicmodel.snmf.SNMF object at 0x30a8e6950>\n",
      "Random initialization state:  2024\n",
      "Prediction coefficients:  [1.26416779 0.66074342 0.92747028]\n",
      "In-sample MSE:  1.3218398950604096\n"
     ]
    }
   ],
   "source": [
    "# do train, estimation split\n",
    "X_train = X[:1500, :]\n",
    "X_est = X[1500:, :]\n",
    "Y_train = Y[:1500]\n",
    "Y_est = Y[1500:]\n",
    "\n",
    "# Initialize and fit the model\n",
    "model = suntopic(Y=Y_train, X=X_train, alpha=0.5, num_bases=3, random_state=2024)\n",
    "model.fit()\n",
    "model.summary()"
   ]
  },
  {
   "cell_type": "code",
   "execution_count": 16,
   "metadata": {},
   "outputs": [
    {
     "name": "stdout",
     "output_type": "stream",
     "text": [
      "Suntopic Model Summary\n",
      "==================================================\n",
      "Number of topics:  3\n",
      "Alpha:  0.1\n",
      "Data shape:  (1500, 501)\n",
      "Model:  <sun_topicmodel.snmf.SNMF object at 0x109f72750>\n",
      "Random initialization state:  2024\n",
      "Prediction coefficients:  [1.71493726 0.86627354 1.24499589]\n",
      "In-sample MSE:  0.9006438050718861\n"
     ]
    }
   ],
   "source": [
    "# Initialize and fit the model\n",
    "model = suntopic(Y=Y_train, X=X_train, alpha=0.1, num_bases=3, random_state=2024)\n",
    "model.fit()\n",
    "model.summary()"
   ]
  },
  {
   "cell_type": "code",
   "execution_count": 17,
   "metadata": {},
   "outputs": [
    {
     "ename": "KeyboardInterrupt",
     "evalue": "",
     "output_type": "error",
     "traceback": [
      "\u001b[0;31m---------------------------------------------------------------------------\u001b[0m",
      "\u001b[0;31mKeyboardInterrupt\u001b[0m                         Traceback (most recent call last)",
      "Cell \u001b[0;32mIn[17], line 2\u001b[0m\n\u001b[1;32m      1\u001b[0m \u001b[38;5;66;03m# Use cross validation for finding optimal hyperparameters: number of bases and alpha\u001b[39;00m\n\u001b[0;32m----> 2\u001b[0m \u001b[43mmodel\u001b[49m\u001b[38;5;241;43m.\u001b[39;49m\u001b[43mhyperparam_cv\u001b[49m\u001b[43m(\u001b[49m\n\u001b[1;32m      3\u001b[0m \u001b[43m    \u001b[49m\u001b[43malpha_range\u001b[49m\u001b[38;5;241;43m=\u001b[39;49m\u001b[43mnp\u001b[49m\u001b[38;5;241;43m.\u001b[39;49m\u001b[43mlinspace\u001b[49m\u001b[43m(\u001b[49m\u001b[38;5;241;43m0.1\u001b[39;49m\u001b[43m,\u001b[49m\u001b[43m \u001b[49m\u001b[38;5;241;43m0.9\u001b[39;49m\u001b[43m,\u001b[49m\u001b[43m \u001b[49m\u001b[38;5;241;43m9\u001b[39;49m\u001b[43m)\u001b[49m\u001b[43m,\u001b[49m\n\u001b[1;32m      4\u001b[0m \u001b[43m    \u001b[49m\u001b[43mnum_bases_range\u001b[49m\u001b[38;5;241;43m=\u001b[39;49m\u001b[43mnp\u001b[49m\u001b[38;5;241;43m.\u001b[39;49m\u001b[43marange\u001b[49m\u001b[43m(\u001b[49m\u001b[38;5;241;43m2\u001b[39;49m\u001b[43m,\u001b[49m\u001b[43m \u001b[49m\u001b[38;5;241;43m10\u001b[39;49m\u001b[43m)\u001b[49m\u001b[43m,\u001b[49m\n\u001b[1;32m      5\u001b[0m \u001b[43m    \u001b[49m\u001b[43mcv_folds\u001b[49m\u001b[38;5;241;43m=\u001b[39;49m\u001b[38;5;241;43m5\u001b[39;49m\u001b[43m,\u001b[49m\n\u001b[1;32m      6\u001b[0m \u001b[43m    \u001b[49m\u001b[43mrandom_state\u001b[49m\u001b[38;5;241;43m=\u001b[39;49m\u001b[38;5;241;43m2024\u001b[39;49m\u001b[43m,\u001b[49m\n\u001b[1;32m      7\u001b[0m \u001b[43m)\u001b[49m\n\u001b[1;32m      8\u001b[0m model\u001b[38;5;241m.\u001b[39mcv_summary()\n",
      "File \u001b[0;32m~/micromamba/envs/cftext/lib/python3.11/site-packages/sun_topicmodel/suntopic.py:324\u001b[0m, in \u001b[0;36msuntopic.hyperparam_cv\u001b[0;34m(self, alpha_range, num_bases_range, cv_folds, random_state, parallel, verbose, niter)\u001b[0m\n\u001b[1;32m    322\u001b[0m         \u001b[38;5;28;01mfor\u001b[39;00m j, alpha \u001b[38;5;129;01min\u001b[39;00m \u001b[38;5;28menumerate\u001b[39m(alpha_range):\n\u001b[1;32m    323\u001b[0m             \u001b[38;5;28;01mfor\u001b[39;00m k, (train_index, test_index) \u001b[38;5;129;01min\u001b[39;00m \u001b[38;5;28menumerate\u001b[39m(\u001b[38;5;28mself\u001b[39m\u001b[38;5;241m.\u001b[39m_cv_kf\u001b[38;5;241m.\u001b[39msplit(\u001b[38;5;28mself\u001b[39m\u001b[38;5;241m.\u001b[39mY)):\n\u001b[0;32m--> 324\u001b[0m                 \u001b[38;5;28mself\u001b[39m\u001b[38;5;241m.\u001b[39mcv_errors[i, j, k] \u001b[38;5;241m=\u001b[39m \u001b[43mpredict_Y_mse\u001b[49m\u001b[43m(\u001b[49m\n\u001b[1;32m    325\u001b[0m \u001b[43m                    \u001b[49m\u001b[38;5;28;43mself\u001b[39;49m\u001b[43m,\u001b[49m\u001b[43m \u001b[49m\u001b[43mk\u001b[49m\u001b[43m,\u001b[49m\u001b[43m \u001b[49m\u001b[43malpha\u001b[49m\u001b[43m,\u001b[49m\u001b[43m \u001b[49m\u001b[43mnum_bases\u001b[49m\u001b[43m,\u001b[49m\u001b[43m \u001b[49m\u001b[43mtrain_index\u001b[49m\u001b[43m,\u001b[49m\u001b[43m \u001b[49m\u001b[43mtest_index\u001b[49m\n\u001b[1;32m    326\u001b[0m \u001b[43m                \u001b[49m\u001b[43m)\u001b[49m\n\u001b[1;32m    327\u001b[0m \u001b[38;5;28;01melse\u001b[39;00m:\n\u001b[1;32m    328\u001b[0m     \u001b[38;5;66;03m# Sequentially loop over alpha_ranges and parallelize across topic_range\u001b[39;00m\n\u001b[1;32m    329\u001b[0m     num_cores \u001b[38;5;241m=\u001b[39m \u001b[38;5;241m-\u001b[39m\u001b[38;5;241m1\u001b[39m \u001b[38;5;28;01mif\u001b[39;00m \u001b[38;5;28mlen\u001b[39m(alpha_range) \u001b[38;5;241m>\u001b[39m \u001b[38;5;241m1\u001b[39m \u001b[38;5;28;01melse\u001b[39;00m \u001b[38;5;241m1\u001b[39m  \u001b[38;5;66;03m# Use all available cores\u001b[39;00m\n",
      "File \u001b[0;32m~/micromamba/envs/cftext/lib/python3.11/site-packages/sun_topicmodel/suntopic.py:312\u001b[0m, in \u001b[0;36msuntopic.hyperparam_cv.<locals>.predict_Y_mse\u001b[0;34m(self, k, alpha, num_bases, train_index, test_index, random_state)\u001b[0m\n\u001b[1;32m    296\u001b[0m \u001b[38;5;28;01mdef\u001b[39;00m \u001b[38;5;21mpredict_Y_mse\u001b[39m(\n\u001b[1;32m    297\u001b[0m     \u001b[38;5;28mself\u001b[39m,\n\u001b[1;32m    298\u001b[0m     k,\n\u001b[0;32m   (...)\u001b[0m\n\u001b[1;32m    303\u001b[0m     random_state\u001b[38;5;241m=\u001b[39m\u001b[38;5;28mself\u001b[39m\u001b[38;5;241m.\u001b[39mcv_random_state,\n\u001b[1;32m    304\u001b[0m ):\n\u001b[1;32m    305\u001b[0m     model \u001b[38;5;241m=\u001b[39m suntopic(\n\u001b[1;32m    306\u001b[0m         Y\u001b[38;5;241m=\u001b[39m\u001b[38;5;28mself\u001b[39m\u001b[38;5;241m.\u001b[39mY[train_index],\n\u001b[1;32m    307\u001b[0m         X\u001b[38;5;241m=\u001b[39m\u001b[38;5;28mself\u001b[39m\u001b[38;5;241m.\u001b[39mX[train_index],\n\u001b[0;32m   (...)\u001b[0m\n\u001b[1;32m    310\u001b[0m         random_state\u001b[38;5;241m=\u001b[39mrandom_state,\n\u001b[1;32m    311\u001b[0m     )\n\u001b[0;32m--> 312\u001b[0m     \u001b[43mmodel\u001b[49m\u001b[38;5;241;43m.\u001b[39;49m\u001b[43mfit\u001b[49m\u001b[43m(\u001b[49m\u001b[43mniter\u001b[49m\u001b[38;5;241;43m=\u001b[39;49m\u001b[43mniter\u001b[49m\u001b[43m,\u001b[49m\u001b[43m \u001b[49m\u001b[43mverbose\u001b[49m\u001b[38;5;241;43m=\u001b[39;49m\u001b[38;5;28;43;01mFalse\u001b[39;49;00m\u001b[43m)\u001b[49m\n\u001b[1;32m    313\u001b[0m     Y_pred \u001b[38;5;241m=\u001b[39m model\u001b[38;5;241m.\u001b[39mpredict(\u001b[38;5;28mself\u001b[39m\u001b[38;5;241m.\u001b[39mX[test_index], random_state\u001b[38;5;241m=\u001b[39mrandom_state)\n\u001b[1;32m    314\u001b[0m     mse \u001b[38;5;241m=\u001b[39m mean_squared_error(\u001b[38;5;28mself\u001b[39m\u001b[38;5;241m.\u001b[39mY[test_index], Y_pred)\n",
      "File \u001b[0;32m~/micromamba/envs/cftext/lib/python3.11/site-packages/sun_topicmodel/suntopic.py:95\u001b[0m, in \u001b[0;36msuntopic.fit\u001b[0;34m(self, niter, verbose, compute_w, compute_h, compute_err)\u001b[0m\n\u001b[1;32m     92\u001b[0m     msg \u001b[38;5;241m=\u001b[39m \u001b[38;5;124m\"\u001b[39m\u001b[38;5;124mNumber of iterations must be at least 1\u001b[39m\u001b[38;5;124m\"\u001b[39m\n\u001b[1;32m     93\u001b[0m     \u001b[38;5;28;01mraise\u001b[39;00m \u001b[38;5;167;01mValueError\u001b[39;00m(msg)\n\u001b[0;32m---> 95\u001b[0m \u001b[38;5;28;43mself\u001b[39;49m\u001b[38;5;241;43m.\u001b[39;49m\u001b[43mmodel\u001b[49m\u001b[38;5;241;43m.\u001b[39;49m\u001b[43mfactorize\u001b[49m\u001b[43m(\u001b[49m\n\u001b[1;32m     96\u001b[0m \u001b[43m    \u001b[49m\u001b[43mniter\u001b[49m\u001b[38;5;241;43m=\u001b[39;49m\u001b[43mniter\u001b[49m\u001b[43m,\u001b[49m\n\u001b[1;32m     97\u001b[0m \u001b[43m    \u001b[49m\u001b[43mverbose\u001b[49m\u001b[38;5;241;43m=\u001b[39;49m\u001b[43mverbose\u001b[49m\u001b[43m,\u001b[49m\n\u001b[1;32m     98\u001b[0m \u001b[43m    \u001b[49m\u001b[43mcompute_w\u001b[49m\u001b[38;5;241;43m=\u001b[39;49m\u001b[43mcompute_w\u001b[49m\u001b[43m,\u001b[49m\n\u001b[1;32m     99\u001b[0m \u001b[43m    \u001b[49m\u001b[43mcompute_h\u001b[49m\u001b[38;5;241;43m=\u001b[39;49m\u001b[43mcompute_h\u001b[49m\u001b[43m,\u001b[49m\n\u001b[1;32m    100\u001b[0m \u001b[43m    \u001b[49m\u001b[43mcompute_err\u001b[49m\u001b[38;5;241;43m=\u001b[39;49m\u001b[43mcompute_err\u001b[49m\u001b[43m,\u001b[49m\n\u001b[1;32m    101\u001b[0m \u001b[43m\u001b[49m\u001b[43m)\u001b[49m\n",
      "File \u001b[0;32m~/micromamba/envs/cftext/lib/python3.11/site-packages/sun_topicmodel/base.py:147\u001b[0m, in \u001b[0;36mPyMFBase.factorize\u001b[0;34m(self, niter, verbose, compute_w, compute_h, compute_err)\u001b[0m\n\u001b[1;32m    145\u001b[0m \u001b[38;5;28;01mfor\u001b[39;00m i \u001b[38;5;129;01min\u001b[39;00m \u001b[38;5;28mrange\u001b[39m(niter):\n\u001b[1;32m    146\u001b[0m     \u001b[38;5;28;01mif\u001b[39;00m compute_h:\n\u001b[0;32m--> 147\u001b[0m         \u001b[38;5;28;43mself\u001b[39;49m\u001b[38;5;241;43m.\u001b[39;49m\u001b[43m_update_h\u001b[49m\u001b[43m(\u001b[49m\u001b[43m)\u001b[49m\n\u001b[1;32m    149\u001b[0m     \u001b[38;5;28;01mif\u001b[39;00m compute_w:\n\u001b[1;32m    150\u001b[0m         \u001b[38;5;28mself\u001b[39m\u001b[38;5;241m.\u001b[39m_update_w()\n",
      "File \u001b[0;32m~/micromamba/envs/cftext/lib/python3.11/site-packages/sun_topicmodel/snmf.py:73\u001b[0m, in \u001b[0;36mSNMF._update_h\u001b[0;34m(self)\u001b[0m\n\u001b[1;32m     71\u001b[0m \u001b[38;5;28;01mdef\u001b[39;00m \u001b[38;5;21m_update_h\u001b[39m(\u001b[38;5;28mself\u001b[39m):\n\u001b[1;32m     72\u001b[0m     H1 \u001b[38;5;241m=\u001b[39m np\u001b[38;5;241m.\u001b[39mdot(\u001b[38;5;28mself\u001b[39m\u001b[38;5;241m.\u001b[39mW\u001b[38;5;241m.\u001b[39mT, \u001b[38;5;28mself\u001b[39m\u001b[38;5;241m.\u001b[39mW)\n\u001b[0;32m---> 73\u001b[0m     H2 \u001b[38;5;241m=\u001b[39m \u001b[43mnp\u001b[49m\u001b[38;5;241;43m.\u001b[39;49m\u001b[43mdot\u001b[49m\u001b[43m(\u001b[49m\u001b[38;5;28;43mself\u001b[39;49m\u001b[38;5;241;43m.\u001b[39;49m\u001b[43mW\u001b[49m\u001b[38;5;241;43m.\u001b[39;49m\u001b[43mT\u001b[49m\u001b[43m,\u001b[49m\u001b[43m \u001b[49m\u001b[38;5;28;43mself\u001b[39;49m\u001b[38;5;241;43m.\u001b[39;49m\u001b[43mdata\u001b[49m\u001b[43m)\u001b[49m\n\u001b[1;32m     74\u001b[0m     \u001b[38;5;28mself\u001b[39m\u001b[38;5;241m.\u001b[39mH \u001b[38;5;241m=\u001b[39m np\u001b[38;5;241m.\u001b[39mlinalg\u001b[38;5;241m.\u001b[39msolve(H1, H2)\n",
      "File \u001b[0;32m<__array_function__ internals>:200\u001b[0m, in \u001b[0;36mdot\u001b[0;34m(*args, **kwargs)\u001b[0m\n",
      "\u001b[0;31mKeyboardInterrupt\u001b[0m: "
     ]
    }
   ],
   "source": [
    "# Use cross validation for finding optimal hyperparameters: number of bases and alpha\n",
    "model.hyperparam_cv(\n",
    "    alpha_range=np.linspace(0.1, 0.9, 9),\n",
    "    num_bases_range=np.arange(2, 10),\n",
    "    cv_folds=5,\n",
    "    random_state=2024,\n",
    ")\n",
    "model.cv_summary()"
   ]
  },
  {
   "cell_type": "code",
   "execution_count": null,
   "metadata": {},
   "outputs": [],
   "source": [
    "# Use parallelization to speed up the hyperparameter search\n",
    "model.hyperparam_cv(\n",
    "    alpha_range=np.linspace(0.1, 0.9, 9),\n",
    "    num_bases_range=np.arange(2, 12),\n",
    "    cv_folds=5,\n",
    "    random_state=2024,\n",
    "    parallel=True,\n",
    ")\n",
    "model.cv_summary()"
   ]
  },
  {
   "cell_type": "code",
   "execution_count": null,
   "metadata": {},
   "outputs": [],
   "source": [
    "model.cv_mse_plot()"
   ]
  },
  {
   "cell_type": "code",
   "execution_count": null,
   "metadata": {},
   "outputs": [],
   "source": [
    "# Initialize and fit the model with best hyperparameters\n",
    "model = suntopic(Y=Y_train, X=X_train, alpha=0.4, num_bases=8, random_state=2024)\n",
    "model.fit()\n",
    "model.summary()"
   ]
  },
  {
   "cell_type": "markdown",
   "metadata": {},
   "source": [
    "# Estimate AMCE "
   ]
  },
  {
   "cell_type": "code",
   "execution_count": null,
   "metadata": {},
   "outputs": [],
   "source": [
    "import statsmodels.api as sm"
   ]
  },
  {
   "cell_type": "code",
   "execution_count": null,
   "metadata": {},
   "outputs": [],
   "source": [
    "Y_est_pred, W_est = model.predict(X_est, return_topics=True, random_state=2024)\n",
    "print(f\"{W_est.shape = }\")\n",
    "\n",
    "# Fit a linear regression model to the estimated topics\n",
    "W_est = sm.add_constant(W_est)\n",
    "model_est = sm.OLS(Y_est, W_est).fit()\n",
    "print(model_est.summary())"
   ]
  },
  {
   "cell_type": "code",
   "execution_count": null,
   "metadata": {},
   "outputs": [],
   "source": [
    "import matplotlib.pyplot as plt\n",
    "from matplotlib import rc\n",
    "\n",
    "\n",
    "# Set font to Computer Modern\n",
    "rc(\"font\", **{\"family\": \"serif\", \"serif\": [\"Computer Modern\"]})\n",
    "plt.rcParams[\"text.usetex\"] = True\n",
    "\n",
    "# Extract parameters and confidence intervals from the regression results\n",
    "params = model_est.params[1:]\n",
    "conf_int = model_est.conf_int()[1:]\n",
    "\n",
    "# Plot the parameters\n",
    "fig, ax = plt.subplots(figsize=(6, 4))\n",
    "\n",
    "for i, (param, (lower, upper)) in enumerate(zip(params, conf_int)):\n",
    "    # Add horizontal lines between rows\n",
    "    ax.axhline(i, color=\"gray\", linestyle=\"--\", linewidth=0.5, alpha=0.5)\n",
    "\n",
    "    if lower <= 0 & 0 <= upper:\n",
    "        ax.plot(\n",
    "            [lower, upper],\n",
    "            [i, i],\n",
    "            color=\"lightgray\",\n",
    "            linewidth=6,\n",
    "            solid_capstyle=\"butt\",\n",
    "            alpha=0.7,\n",
    "        )\n",
    "        ax.scatter(param, i, marker=\"o\", s=6, color=\"black\", zorder=10)\n",
    "\n",
    "    elif lower <= 0 & 0 >= upper:\n",
    "        ax.plot(\n",
    "            [lower, upper],\n",
    "            [i, i],\n",
    "            color=\"red\",\n",
    "            linewidth=6,\n",
    "            solid_capstyle=\"butt\",\n",
    "            alpha=0.3,\n",
    "        )\n",
    "        ax.scatter(param, i, marker=\"o\", s=6, color=\"black\", zorder=10)\n",
    "\n",
    "    else:\n",
    "        ax.plot(\n",
    "            [lower, upper],\n",
    "            [i, i],\n",
    "            color=\"green\",\n",
    "            linewidth=6,\n",
    "            solid_capstyle=\"butt\",\n",
    "            alpha=0.3,\n",
    "        )\n",
    "        ax.scatter(param, i, marker=\"o\", s=6, color=\"black\", zorder=10)\n",
    "\n",
    "# Customize the plot\n",
    "ax.axvline(0, color=\"black\", linestyle=\"--\", linewidth=1)  # Add a vertical line at x=0\n",
    "ax.yaxis.tick_left()\n",
    "ax.invert_yaxis()  # Flip the graph\n",
    "ax.set_yticks(np.arange(len(params)))\n",
    "ax.set_yticklabels([f\"({i+1})\" for i in range(len(model_est.params) - 1)], fontsize=12)\n",
    "ax.set_xlabel(\"Estimated Effects\", fontsize=12)\n",
    "# include lin break in the title\n",
    "ax.set_title(\"Estimates of Topic Effects with 95\\% Confidence Intervals\", fontsize=14)\n",
    "\n",
    "\n",
    "# Save or show the plot\n",
    "plt.tight_layout()\n",
    "# plt.savefig( str(data_dir) + '/LinWood_Causal_Effects_plot2.png',bbox_inches=\"tight\", dpi=600)  # Save the plot as an image file\n",
    "plt.show()"
   ]
  }
 ],
 "metadata": {
  "kernelspec": {
   "display_name": "Python 3",
   "language": "python",
   "name": "python3"
  },
  "language_info": {
   "codemirror_mode": {
    "name": "ipython",
    "version": 3
   },
   "file_extension": ".py",
   "mimetype": "text/x-python",
   "name": "python",
   "nbconvert_exporter": "python",
   "pygments_lexer": "ipython3",
   "version": "3.11.3"
  }
 },
 "nbformat": 4,
 "nbformat_minor": 2
}
