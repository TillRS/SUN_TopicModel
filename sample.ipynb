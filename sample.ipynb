{
 "cells": [
  {
   "cell_type": "markdown",
   "metadata": {},
   "source": [
    "# Sample use of the sun topic model "
   ]
  },
  {
   "cell_type": "code",
   "execution_count": null,
   "metadata": {},
   "outputs": [],
   "source": [
    "import numpy as np\n",
    "from sun_topicmodel import suntopic\n",
    "import matplotlib.pyplot as plt"
   ]
  },
  {
   "cell_type": "code",
   "execution_count": null,
   "metadata": {},
   "outputs": [],
   "source": [
    "# Generate random data as the 'embeddings' for the 'documents' in the corpus\n",
    "np.random.seed(2024)\n",
    "n = 2000\n",
    "m = 500\n",
    "J = 10\n",
    "W_t = np.random.rand(n, J)\n",
    "H_t = np.random.rand(J, m)\n",
    "X = np.dot(W_t, H_t) + np.random.rand(n, m) * 0.1\n",
    "coef_true = np.random.normal(0, 1, J)\n",
    "Y = np.dot(W_t, coef_true) + np.random.rand(n) * 0.1\n",
    "print(f\"coeff_true: {coef_true}\")\n",
    "\n",
    "sorted_indices = np.argsort(np.abs(coef_true))[::-1]\n",
    "sorted_coef_true = coef_true[sorted_indices]\n",
    "\n",
    "# Set font to Computer Modern\n",
    "plt.rcParams[\"text.usetex\"] = True\n",
    "\n",
    "# Plot the parameters\n",
    "fig, ax = plt.subplots(figsize=(6, 4))\n",
    "\n",
    "for i, param in enumerate(sorted_coef_true):\n",
    "    ax.axhline(i, color=\"gray\", linestyle=\"--\", linewidth=0.5, alpha=0.5)\n",
    "    ax.scatter(param, i, marker=\"x\", s=15, color=\"blue\", zorder=10)\n",
    "\n",
    "\n",
    "# Customize the plot\n",
    "ax.axvline(0, color=\"black\", linestyle=\"--\", linewidth=1)  # Add a vertical line at x=0\n",
    "ax.yaxis.tick_left()\n",
    "ax.invert_yaxis()  # Flip the graph\n",
    "ax.set_yticks(np.arange(len(sorted_coef_true)))\n",
    "ax.set_yticklabels([f\"({i+1})\" for i in sorted_indices], fontsize=12)\n",
    "ax.set_xlabel(\"True Effects\", fontsize=12)\n",
    "ax.set_title(\"True Effects sorted by absolute value\", fontsize=14)\n",
    "\n",
    "# Save or show the plot\n",
    "plt.tight_layout()\n",
    "plt.show()"
   ]
  },
  {
   "cell_type": "code",
   "execution_count": null,
   "metadata": {},
   "outputs": [],
   "source": [
    "# do train, estimation split\n",
    "X_train = X[:1500, :]\n",
    "X_est = X[1500:, :]\n",
    "Y_train = Y[:1500]\n",
    "Y_est = Y[1500:]\n",
    "\n",
    "# Initialize and fit the model\n",
    "model = suntopic(Y=Y_train, X=X_train, alpha=0.5, num_bases=3, random_state=2024)\n",
    "model.fit()\n",
    "model.summary()"
   ]
  },
  {
   "cell_type": "code",
   "execution_count": null,
   "metadata": {},
   "outputs": [],
   "source": [
    "# Use cross validation for finding optimal hyperparameters: number of bases and alpha\n",
    "model.hyperparam_cv(\n",
    "    alpha_range=np.linspace(0.1, 0.9, 9),\n",
    "    num_bases_range=np.arange(2, 10),\n",
    "    cv_folds=5,\n",
    "    random_state=2024,\n",
    ")\n",
    "model.cv_summary()"
   ]
  },
  {
   "cell_type": "code",
   "execution_count": null,
   "metadata": {},
   "outputs": [],
   "source": [
    "# Use parallelization to speed up the hyperparameter search\n",
    "model.hyperparam_cv(\n",
    "    alpha_range=np.linspace(0.1, 0.9, 9),\n",
    "    num_bases_range=np.arange(2, 12),\n",
    "    cv_folds=5,\n",
    "    random_state=2024,\n",
    "    parallel=True,\n",
    ")\n",
    "model.cv_summary()"
   ]
  },
  {
   "cell_type": "code",
   "execution_count": null,
   "metadata": {},
   "outputs": [],
   "source": [
    "model.cv_mse_plot()"
   ]
  },
  {
   "cell_type": "code",
   "execution_count": null,
   "metadata": {},
   "outputs": [],
   "source": [
    "# Initialize and fit the model with best hyperparameters\n",
    "model = suntopic(Y=Y_train, X=X_train, alpha=0.4, num_bases=8, random_state=2024)\n",
    "model.fit()\n",
    "model.summary()"
   ]
  },
  {
   "cell_type": "markdown",
   "metadata": {},
   "source": [
    "# Estimate AMCE "
   ]
  },
  {
   "cell_type": "code",
   "execution_count": null,
   "metadata": {},
   "outputs": [],
   "source": [
    "import statsmodels.api as sm"
   ]
  },
  {
   "cell_type": "code",
   "execution_count": null,
   "metadata": {},
   "outputs": [],
   "source": [
    "Y_est_pred, W_est = model.predict(X_est, return_topics=True, random_state=2024)\n",
    "print(f\"{W_est.shape = }\")\n",
    "\n",
    "# Fit a linear regression model to the estimated topics\n",
    "W_est = sm.add_constant(W_est)\n",
    "model_est = sm.OLS(Y_est, W_est).fit()\n",
    "print(model_est.summary())"
   ]
  },
  {
   "cell_type": "code",
   "execution_count": null,
   "metadata": {},
   "outputs": [],
   "source": [
    "import matplotlib.pyplot as plt\n",
    "from matplotlib import rc\n",
    "\n",
    "\n",
    "# Set font to Computer Modern\n",
    "rc(\"font\", **{\"family\": \"serif\", \"serif\": [\"Computer Modern\"]})\n",
    "plt.rcParams[\"text.usetex\"] = True\n",
    "\n",
    "# Extract parameters and confidence intervals from the regression results\n",
    "params = model_est.params[1:]\n",
    "conf_int = model_est.conf_int()[1:]\n",
    "\n",
    "# Plot the parameters\n",
    "fig, ax = plt.subplots(figsize=(6, 4))\n",
    "\n",
    "for i, (param, (lower, upper)) in enumerate(zip(params, conf_int)):\n",
    "    # Add horizontal lines between rows\n",
    "    ax.axhline(i, color=\"gray\", linestyle=\"--\", linewidth=0.5, alpha=0.5)\n",
    "\n",
    "    if lower <= 0 & 0 <= upper:\n",
    "        ax.plot(\n",
    "            [lower, upper],\n",
    "            [i, i],\n",
    "            color=\"lightgray\",\n",
    "            linewidth=6,\n",
    "            solid_capstyle=\"butt\",\n",
    "            alpha=0.7,\n",
    "        )\n",
    "        ax.scatter(param, i, marker=\"o\", s=6, color=\"black\", zorder=10)\n",
    "\n",
    "    elif lower <= 0 & 0 >= upper:\n",
    "        ax.plot(\n",
    "            [lower, upper],\n",
    "            [i, i],\n",
    "            color=\"red\",\n",
    "            linewidth=6,\n",
    "            solid_capstyle=\"butt\",\n",
    "            alpha=0.3,\n",
    "        )\n",
    "        ax.scatter(param, i, marker=\"o\", s=6, color=\"black\", zorder=10)\n",
    "\n",
    "    else:\n",
    "        ax.plot(\n",
    "            [lower, upper],\n",
    "            [i, i],\n",
    "            color=\"green\",\n",
    "            linewidth=6,\n",
    "            solid_capstyle=\"butt\",\n",
    "            alpha=0.3,\n",
    "        )\n",
    "        ax.scatter(param, i, marker=\"o\", s=6, color=\"black\", zorder=10)\n",
    "\n",
    "# Customize the plot\n",
    "ax.axvline(0, color=\"black\", linestyle=\"--\", linewidth=1)  # Add a vertical line at x=0\n",
    "ax.yaxis.tick_left()\n",
    "ax.invert_yaxis()  # Flip the graph\n",
    "ax.set_yticks(np.arange(len(params)))\n",
    "ax.set_yticklabels([f\"({i+1})\" for i in range(len(model_est.params) - 1)], fontsize=12)\n",
    "ax.set_xlabel(\"Estimated Effects\", fontsize=12)\n",
    "# include lin break in the title\n",
    "ax.set_title(\"Estimates of Topic Effects with 95\\% Confidence Intervals\", fontsize=14)\n",
    "\n",
    "\n",
    "# Save or show the plot\n",
    "plt.tight_layout()\n",
    "# plt.savefig( str(data_dir) + '/LinWood_Causal_Effects_plot2.png',bbox_inches=\"tight\", dpi=600)  # Save the plot as an image file\n",
    "plt.show()"
   ]
  }
 ],
 "metadata": {
  "kernelspec": {
   "display_name": "Python 3",
   "language": "python",
   "name": "python3"
  },
  "language_info": {
   "codemirror_mode": {
    "name": "ipython",
    "version": 3
   },
   "file_extension": ".py",
   "mimetype": "text/x-python",
   "name": "python",
   "nbconvert_exporter": "python",
   "pygments_lexer": "ipython3",
   "version": "3.11.3"
  }
 },
 "nbformat": 4,
 "nbformat_minor": 2
}
