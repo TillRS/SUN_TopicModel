{
 "cells": [
  {
   "cell_type": "code",
   "execution_count": 1,
   "metadata": {},
   "outputs": [],
   "source": [
    "from __future__ import annotations\n",
    "\n",
    "import os\n",
    "import sys\n",
    "\n",
    "import numpy as np\n",
    "import pandas as pd\n",
    "import matplotlib.pyplot as plt\n",
    "# import path\n",
    "from pathlib import Path\n",
    "\n",
    "\n",
    "sys.path.append(\"..\")\n",
    "from src.sun_topicmodel.snmf import SNMF\n",
    "from src.sun_topicmodel.suntopic import suntopic"
   ]
  },
  {
   "cell_type": "markdown",
   "metadata": {},
   "source": [
    "# Test SNMF class"
   ]
  },
  {
   "cell_type": "code",
   "execution_count": 2,
   "metadata": {},
   "outputs": [
    {
     "data": {
      "text/plain": [
       "(array([[0.25001759, 1.27362923, 0.39751354],\n",
       "        [1.18452869, 0.22199731, 0.43895865],\n",
       "        [0.23317468, 0.21721092, 1.28664204],\n",
       "        [1.34400813, 0.11776691, 0.02949814],\n",
       "        [0.25625081, 0.1970727 , 1.08626062],\n",
       "        [1.08775438, 0.2054494 , 0.165227  ],\n",
       "        [0.11545825, 0.18089733, 0.92595909],\n",
       "        [1.1745822 , 0.27624489, 0.35103107],\n",
       "        [0.19641036, 1.46185365, 0.07789984],\n",
       "        [0.14523753, 0.74599623, 0.20190169]]),\n",
       " array([[ 0.17835215,  0.06169527,  0.40975239,  0.38796898,  0.32668161,\n",
       "          0.03279407],\n",
       "        [ 0.18834811,  0.20452355,  0.20725104,  0.02744729,  0.2502088 ,\n",
       "          0.19163737],\n",
       "        [ 0.39193405,  0.39694151,  0.1873743 ,  0.42314539, -0.07739979,\n",
       "          0.36135947]]))"
      ]
     },
     "execution_count": 2,
     "metadata": {},
     "output_type": "execute_result"
    }
   ],
   "source": [
    "np.random.seed(0)\n",
    "X = np.random.rand(10, 5)\n",
    "Y = np.random.rand(10)\n",
    "alpha = 0.5\n",
    "\n",
    "X_test = np.random.rand(5, 5)\n",
    "Y_test = np.random.rand(5)\n",
    "# X_tilde = np.hstack((X, Y.reshape(-1,1)))\n",
    "X_tilde =  np.hstack(\n",
    "            (np.sqrt(alpha) * X, np.sqrt(1 - alpha) * np.array(Y).reshape(-1, 1))\n",
    "        )\n",
    "\n",
    "snmf_test = SNMF(X_tilde, num_bases=3, random_state=0)\n",
    "snmf_test.factorize(niter=10)\n",
    "snmf_test.W, snmf_test.H"
   ]
  },
  {
   "cell_type": "markdown",
   "metadata": {},
   "source": [
    "# Test sunmodel class"
   ]
  },
  {
   "cell_type": "code",
   "execution_count": 3,
   "metadata": {},
   "outputs": [
    {
     "data": {
      "text/plain": [
       "(array([[0.25001759, 1.27362923, 0.39751354],\n",
       "        [1.18452869, 0.22199731, 0.43895865],\n",
       "        [0.23317468, 0.21721092, 1.28664204],\n",
       "        [1.34400813, 0.11776691, 0.02949814],\n",
       "        [0.25625081, 0.1970727 , 1.08626062],\n",
       "        [1.08775438, 0.2054494 , 0.165227  ],\n",
       "        [0.11545825, 0.18089733, 0.92595909],\n",
       "        [1.1745822 , 0.27624489, 0.35103107],\n",
       "        [0.19641036, 1.46185365, 0.07789984],\n",
       "        [0.14523753, 0.74599623, 0.20190169]]),\n",
       " array([[ 0.17835215,  0.06169527,  0.40975239,  0.38796898,  0.32668161,\n",
       "          0.03279407],\n",
       "        [ 0.18834811,  0.20452355,  0.20725104,  0.02744729,  0.2502088 ,\n",
       "          0.19163737],\n",
       "        [ 0.39193405,  0.39694151,  0.1873743 ,  0.42314539, -0.07739979,\n",
       "          0.36135947]]))"
      ]
     },
     "execution_count": 3,
     "metadata": {},
     "output_type": "execute_result"
    }
   ],
   "source": [
    "model = suntopic(X=X, Y=Y, alpha=0.5,  num_bases=3, random_state=0)\n",
    "model.fit(niter=10)\n",
    "model.get_topics(), model.get_coefficients()"
   ]
  },
  {
   "cell_type": "code",
   "execution_count": 4,
   "metadata": {},
   "outputs": [
    {
     "data": {
      "text/plain": [
       "(array([[ True,  True,  True],\n",
       "        [ True,  True,  True],\n",
       "        [ True,  True,  True],\n",
       "        [ True,  True,  True],\n",
       "        [ True,  True,  True],\n",
       "        [ True,  True,  True],\n",
       "        [ True,  True,  True],\n",
       "        [ True,  True,  True],\n",
       "        [ True,  True,  True],\n",
       "        [ True,  True,  True]]),\n",
       " array([[ True,  True,  True,  True,  True,  True],\n",
       "        [ True,  True,  True,  True,  True,  True],\n",
       "        [ True,  True,  True,  True,  True,  True]]))"
      ]
     },
     "execution_count": 4,
     "metadata": {},
     "output_type": "execute_result"
    }
   ],
   "source": [
    "model.get_topics() == snmf_test.W, model.get_coefficients() == snmf_test.H"
   ]
  },
  {
   "cell_type": "markdown",
   "metadata": {},
   "source": [
    "# Test predict method using SNMF"
   ]
  },
  {
   "cell_type": "code",
   "execution_count": 5,
   "metadata": {},
   "outputs": [
    {
     "data": {
      "text/plain": [
       "(array([[0.79599726, 0.24618489, 0.59632937],\n",
       "        [1.06924471, 0.28702082, 0.23303979],\n",
       "        [0.91749457, 0.33809355, 0.38514903],\n",
       "        [0.0676815 , 0.50142732, 0.29950645],\n",
       "        [0.84250319, 0.38035933, 0.66189169]]),\n",
       " array([0.32324575, 0.38433793, 0.39015752, 0.31166802, 0.41160046]),\n",
       " 0.06693775896379821)"
      ]
     },
     "execution_count": 5,
     "metadata": {},
     "output_type": "execute_result"
    }
   ],
   "source": [
    "from sklearn.model_selection import KFold\n",
    "cv_folds = 2\n",
    "random_state = 0\n",
    "num_bases = 3\n",
    "alpha = 0.5\n",
    "\n",
    "kf = KFold(n_splits=cv_folds, random_state=random_state, shuffle=True)\n",
    "\n",
    "X_tilde = np.hstack(((alpha ** 0.5) * X, ((1 - alpha) ** 0.5) * np.array(Y).reshape(-1, 1)))\n",
    "\n",
    "kfold = kf.split(X=X_tilde)\n",
    "\n",
    "for k, (train, test) in enumerate(kfold):\n",
    "    snmf_mdl = SNMF(np.array(X_tilde[train, :]), num_bases=num_bases, random_state=random_state)\n",
    "    snmf_mdl.factorize(niter=10)\n",
    "    W_snmf = snmf_mdl.W\n",
    "    H_snmf = snmf_mdl.H\n",
    "\n",
    "    beta = H_snmf[:, -1]\n",
    "    snmf_pred = SNMF(np.array(X_tilde[test, :-1]), num_bases=num_bases, random_state=random_state)\n",
    "    snmf_pred.H = H_snmf[:,:]\n",
    "    snmf_pred.factorize(niter=10,\n",
    "                            compute_h=False, compute_w=True, compute_err=False)\n",
    "    pred_latent = snmf_pred.W\n",
    "    pred_response = np.dot(pred_latent, beta)\n",
    "    Y_pred = pred_response  * ((1 - alpha) ** (-0.5))\n",
    "    mse = np.mean((Y_pred - Y[test]) ** 2)\n",
    "    # pred_response = np.dot(pred_latent, beta)\n",
    "pred_latent, Y_pred, mse\n"
   ]
  },
  {
   "cell_type": "markdown",
   "metadata": {},
   "source": [
    "# Test predict method using suntopic"
   ]
  },
  {
   "cell_type": "code",
   "execution_count": 6,
   "metadata": {},
   "outputs": [
    {
     "data": {
      "text/plain": [
       "(array([[0.79599726, 0.24618489, 0.59632937],\n",
       "        [1.06924471, 0.28702082, 0.23303979],\n",
       "        [0.91749457, 0.33809355, 0.38514903],\n",
       "        [0.0676815 , 0.50142732, 0.29950645],\n",
       "        [0.84250319, 0.38035933, 0.66189169]]),\n",
       " array([0.32324575, 0.38433793, 0.39015752, 0.31166802, 0.41160046]),\n",
       " 0.06693775896379821)"
      ]
     },
     "execution_count": 6,
     "metadata": {},
     "output_type": "execute_result"
    }
   ],
   "source": [
    "cv_folds = 2\n",
    "random_state = 0\n",
    "num_bases = 3\n",
    "alpha = 0.5\n",
    "\n",
    "kf = KFold(n_splits=cv_folds, random_state=random_state, shuffle=True)\n",
    "\n",
    "X_tilde = np.hstack(((alpha ** 0.5) * X, ((1 - alpha) ** 0.5) * np.array(Y).reshape(-1, 1)))\n",
    "\n",
    "kfold = kf.split(X=X_tilde)\n",
    "\n",
    "model = suntopic(X=X[train,:], Y=Y[train], alpha=0.5,  num_bases=num_bases, random_state=random_state)\n",
    "model.fit(niter=10)\n",
    "model.get_topics(), model.get_coefficients()\n",
    "\n",
    "Y_pred, topics_pred = model.predict(X[test,:], return_topics=True, random_state=0,\n",
    "                                    niter=10, compute_err=False)\n",
    "\n",
    "mse = np.mean((Y[test] - Y_pred) ** 2)\n",
    "topics_pred, Y_pred, mse\n"
   ]
  },
  {
   "cell_type": "markdown",
   "metadata": {},
   "source": [
    "# Test predictions using suntopic CV method"
   ]
  },
  {
   "cell_type": "code",
   "execution_count": 11,
   "metadata": {},
   "outputs": [
    {
     "data": {
      "text/plain": [
       "0.06693775896379821"
      ]
     },
     "execution_count": 11,
     "metadata": {},
     "output_type": "execute_result"
    }
   ],
   "source": [
    "model = suntopic(X=X, Y=Y, alpha=0.5,  num_bases=num_bases, random_state=random_state)\n",
    "model.hyperparam_cv(alpha_range = [0.5], num_bases_range=[3], cv_folds=cv_folds, random_state=random_state, niter=10)\n",
    "model.cv_errors[0][0][1]\n"
   ]
  },
  {
   "cell_type": "code",
   "execution_count": 19,
   "metadata": {},
   "outputs": [
    {
     "name": "stdout",
     "output_type": "stream",
     "text": [
      "Y_pred: [0.2293855  0.51110644 0.40083652 0.15586653 0.3513014 ], Y: [0.57019677 0.10204481 0.16130952 0.65310833 0.2532916 ]\n",
      "X_train:  [[0.64589411 0.43758721 0.891773   0.96366276 0.38344152]\n",
      " [0.79172504 0.52889492 0.56804456 0.92559664 0.07103606]\n",
      " [0.97861834 0.79915856 0.46147936 0.78052918 0.11827443]\n",
      " [0.3595079  0.43703195 0.6976312  0.06022547 0.66676672]\n",
      " [0.67063787 0.21038256 0.1289263  0.31542835 0.36371077]]\n",
      "X_test: [[0.5488135  0.71518937 0.60276338 0.54488318 0.4236548 ]\n",
      " [0.0871293  0.0202184  0.83261985 0.77815675 0.87001215]\n",
      " [0.63992102 0.14335329 0.94466892 0.52184832 0.41466194]\n",
      " [0.26455561 0.77423369 0.45615033 0.56843395 0.0187898 ]\n",
      " [0.6176355  0.61209572 0.616934   0.94374808 0.6818203 ]]\n"
     ]
    }
   ],
   "source": [
    "model = suntopic(\n",
    "    Y=Y[train],\n",
    "    X=X[train],\n",
    "    alpha=alpha,\n",
    "    num_bases=num_bases,\n",
    "    random_state=random_state,\n",
    ")\n",
    "model.fit(niter=10, verbose=False)\n",
    "Y_pred = model.predict(X[test], random_state=r)\n",
    "print(f\"Y_pred: {Y_pred}, Y: {Y[test]}\")\n",
    "print(\"X_train: \", X[train])\n",
    "print(f\"X_test: {X[test]}\")"
   ]
  },
  {
   "cell_type": "code",
   "execution_count": 199,
   "metadata": {},
   "outputs": [
    {
     "data": {
      "text/plain": [
       "array([[0.79599726, 0.24618489, 0.59632937],\n",
       "       [1.06924471, 0.28702082, 0.23303979],\n",
       "       [0.91749457, 0.33809355, 0.38514903],\n",
       "       [0.0676815 , 0.50142732, 0.29950645],\n",
       "       [0.84250319, 0.38035933, 0.66189169]])"
      ]
     },
     "execution_count": 199,
     "metadata": {},
     "output_type": "execute_result"
    }
   ],
   "source": [
    "model._cv_kf \n",
    "\n",
    "for k, (train, test) in enumerate(model._cv_kf.split(X=X_tilde)):\n",
    "    snmf_mdl = SNMF(np.array(X_tilde[train, :]), num_bases=num_bases, random_state=random_state)\n",
    "    snmf_mdl.factorize(niter=10)\n",
    "    W_snmf = snmf_mdl.W\n",
    "    H_snmf = snmf_mdl.H\n",
    "\n",
    "    beta = H_snmf[:, -1]\n",
    "    snmf_pred = SNMF(np.array(X_tilde[test, :-1]), num_bases=num_bases, random_state=random_state)\n",
    "    snmf_pred.H = H_snmf[:,:]\n",
    "    snmf_pred.factorize(niter=10,\n",
    "                            compute_h=False, compute_w=True, compute_err=False)\n",
    "    pred_latent = snmf_pred.W\n",
    "    # pred_response = np.dot(pred_latent, beta)\n",
    "pred_latent\n"
   ]
  },
  {
   "cell_type": "code",
   "execution_count": 54,
   "metadata": {},
   "outputs": [
    {
     "data": {
      "text/plain": [
       "array([[[0.23122924, 0.08930563],\n",
       "        [0.18789278, 0.08320358],\n",
       "        [0.15656551, 0.0744845 ],\n",
       "        [0.13540992, 0.07015186],\n",
       "        [0.12158365, 0.07365679],\n",
       "        [0.11307394, 0.07780496],\n",
       "        [0.10844975, 0.08110878],\n",
       "        [0.10593444, 0.0837563 ],\n",
       "        [0.10560273, 0.08590986]]])"
      ]
     },
     "execution_count": 54,
     "metadata": {},
     "output_type": "execute_result"
    }
   ],
   "source": [
    "# model.hyperparam_cv(num_bases_range=range(2,3), \n",
    "#                     alpha_range=np.linspace(0.1,0.9,9), \n",
    "#                     random_state=0, \n",
    "#                     niter=10, \n",
    "#                     cv_folds=2,\n",
    "#                     verbose=False,\n",
    "#                     parallel=False)\n",
    "# model.cv_errors"
   ]
  },
  {
   "cell_type": "code",
   "execution_count": 119,
   "metadata": {},
   "outputs": [
    {
     "data": {
      "text/plain": [
       "array([[0.742869  , 0.37202552, 0.42620847],\n",
       "       [0.58109627, 0.94178712, 0.56474173],\n",
       "       [0.75944318, 0.12638081, 0.72224126],\n",
       "       [1.05107057, 0.35158594, 0.15309766],\n",
       "       [0.59750129, 0.25568697, 0.89168434],\n",
       "       [0.51058842, 1.02211432, 0.25277358]])"
      ]
     },
     "execution_count": 119,
     "metadata": {},
     "output_type": "execute_result"
    }
   ],
   "source": [
    "test = [0,1,2,3,4,5]\n",
    "snmf_pred = SNMF(X_tilde[test,:-1], num_bases=3, random_state=0)\n",
    "snmf_pred.H = snmf_test.H[:,:-1]\n",
    "# snmf_pred.W = snmf_test.W\n",
    "# snmf_pred.W\n",
    "snmf_pred.factorize(niter=10, \n",
    "                    compute_h=False,\n",
    "                    compute_w=True)\n",
    "snmf_pred.W"
   ]
  },
  {
   "cell_type": "code",
   "execution_count": null,
   "metadata": {},
   "outputs": [],
   "source": []
  },
  {
   "cell_type": "code",
   "execution_count": null,
   "metadata": {},
   "outputs": [],
   "source": []
  },
  {
   "cell_type": "code",
   "execution_count": 58,
   "metadata": {},
   "outputs": [],
   "source": [
    "niter = 10\n",
    "from sklearn.metrics import mean_squared_error\n",
    "from sklearn.model_selection import KFold\n",
    "\n",
    "def predict_Y_mse(\n",
    "            self,\n",
    "            k,\n",
    "            alpha,\n",
    "            num_bases,\n",
    "            train_index,\n",
    "            test_index,\n",
    "            random_state=0,\n",
    "        ):\n",
    "            model = suntopic(\n",
    "                Y=Y[train_index],\n",
    "                X=X[train_index],\n",
    "                alpha=alpha,\n",
    "                num_bases=num_bases,\n",
    "                random_state=random_state,\n",
    "            )\n",
    "            model.fit(niter=niter, verbose=False)\n",
    "            Y_pred = model.predict(self.X[test_index], random_state=random_state)\n",
    "            mse = mean_squared_error(self.Y[test_index], Y_pred)\n",
    "            self._logger.info(\n",
    "                f\"Alpha: {alpha}, Num bases: {num_bases}, Fold: {k}, MSE: {mse}\"\n",
    "            )  # currently does not work for parallel\n",
    "            return mse"
   ]
  },
  {
   "cell_type": "code",
   "execution_count": 148,
   "metadata": {},
   "outputs": [
    {
     "data": {
      "text/plain": [
       "0.10057193670971562"
      ]
     },
     "execution_count": 148,
     "metadata": {},
     "output_type": "execute_result"
    }
   ],
   "source": [
    "train_index = [1, 2, 4, 8, 9]\n",
    "test_index = [0, 3, 5, 6, 7]\n",
    "alpha = 0.2\n",
    "num_bases = 3\n",
    "random_state = 0\n",
    "model = suntopic(\n",
    "    Y=Y[train_index],\n",
    "    X=X[train_index],\n",
    "    alpha=alpha,\n",
    "    num_bases=num_bases,\n",
    "    random_state=random_state,\n",
    ")\n",
    "model.fit(niter=niter, verbose=False)\n",
    "Y_pred = model.predict(X[test_index], random_state=random_state)\n",
    "mse = mean_squared_error(Y[test_index], Y_pred)\n",
    "mse"
   ]
  },
  {
   "cell_type": "code",
   "execution_count": 73,
   "metadata": {},
   "outputs": [
    {
     "data": {
      "text/plain": [
       "array([[0.33739571, 0.27852767, 1.12376345],\n",
       "       [0.19753999, 1.18845234, 0.19936748],\n",
       "       [0.10810037, 0.13418135, 1.24699994],\n",
       "       [1.58040478, 0.21713344, 0.17625245],\n",
       "       [0.58174558, 0.17790079, 0.31254176]])"
      ]
     },
     "execution_count": 73,
     "metadata": {},
     "output_type": "execute_result"
    }
   ],
   "source": [
    "model = suntopic(\n",
    "    Y=Y[train_index],\n",
    "    X=X[train_index],\n",
    "    alpha=alpha,\n",
    "    num_bases=num_bases,\n",
    "    random_state=random_state,\n",
    ")\n",
    "model.fit(niter=niter, verbose=False)\n",
    "model.get_topics()"
   ]
  },
  {
   "cell_type": "code",
   "execution_count": 101,
   "metadata": {},
   "outputs": [
    {
     "data": {
      "text/plain": [
       "array([[ 0.06258059,  0.0671527 ,  0.13647992, -0.04814371,  0.1939673 ,\n",
       "         0.1547356 ],\n",
       "       [ 0.24053947,  0.14500553,  0.1617405 ,  0.31328817, -0.01053521,\n",
       "         0.70493459],\n",
       "       [ 0.26808907,  0.19753123,  0.18892905,  0.28341627,  0.06072386,\n",
       "         0.08931379]])"
      ]
     },
     "execution_count": 101,
     "metadata": {},
     "output_type": "execute_result"
    }
   ],
   "source": [
    "model.get_coefficients()"
   ]
  },
  {
   "cell_type": "code",
   "execution_count": 150,
   "metadata": {},
   "outputs": [
    {
     "data": {
      "text/plain": [
       "array([0.15874617, 0.19546741, 0.17291873, 0.08840459, 0.17703399])"
      ]
     },
     "execution_count": 150,
     "metadata": {},
     "output_type": "execute_result"
    }
   ],
   "source": [
    "model.predict(X[test_index], random_state=random_state)"
   ]
  },
  {
   "cell_type": "code",
   "execution_count": 103,
   "metadata": {},
   "outputs": [
    {
     "data": {
      "text/plain": [
       "array([[0.85871741, 0.1333539 , 0.29822463],\n",
       "       [0.20431552, 0.083101  , 0.80475149],\n",
       "       [0.90378808, 0.12975614, 0.28245721],\n",
       "       [0.06987974, 0.36150074, 0.15424041],\n",
       "       [0.9392193 , 0.15974627, 0.34859243]])"
      ]
     },
     "execution_count": 103,
     "metadata": {},
     "output_type": "execute_result"
    }
   ],
   "source": [
    "data_new = np.sqrt(alpha) * X[test_index]\n",
    "data_new = np.hstack((data_new, np.zeros((data_new.shape[0], 1)))) # as there are no observations Y \n",
    "_model_pred = SNMF(data_new, num_bases, random_state=0)\n",
    "# _model_pred.data = data_new[:, :-1] # remove the extra column\n",
    "# _model_pred.H = model.H[:, :-1]\n",
    "_model_pred.H = model.model.H\n",
    "\n",
    "_model_pred.factorize(\n",
    "    niter=2, verbose=False, compute_h=False, compute_err=False\n",
    ")\n",
    "\n",
    "_model_pred.W\n",
    "\n",
    "# Y_pred = np.dot(_model_pred.W, model.model.H[:, -1])\n",
    "# Y_pred /= np.sqrt(1 - alpha)\n",
    "# Y_pred"
   ]
  },
  {
   "cell_type": "code",
   "execution_count": 99,
   "metadata": {},
   "outputs": [
    {
     "data": {
      "text/plain": [
       "(array([[0.9717047 , 0.15719076, 0.23795233],\n",
       "        [0.18809088, 0.11889302, 0.91178375],\n",
       "        [1.00063305, 0.15515925, 0.23153136],\n",
       "        [0.09827812, 0.54618289, 0.14698903],\n",
       "        [1.03607148, 0.17592388, 0.26307628]]),)"
      ]
     },
     "execution_count": 99,
     "metadata": {},
     "output_type": "execute_result"
    }
   ],
   "source": [
    "_model_pred.W,"
   ]
  },
  {
   "cell_type": "code",
   "execution_count": null,
   "metadata": {},
   "outputs": [],
   "source": []
  },
  {
   "cell_type": "code",
   "execution_count": null,
   "metadata": {},
   "outputs": [],
   "source": []
  },
  {
   "cell_type": "code",
   "execution_count": 85,
   "metadata": {},
   "outputs": [],
   "source": [
    "ninter = 10"
   ]
  },
  {
   "cell_type": "code",
   "execution_count": 97,
   "metadata": {},
   "outputs": [
    {
     "data": {
      "text/plain": [
       "array([[0.33739571, 0.27852767, 1.12376345],\n",
       "       [0.19753999, 1.18845234, 0.19936748],\n",
       "       [0.10810037, 0.13418135, 1.24699994],\n",
       "       [1.58040478, 0.21713344, 0.17625245],\n",
       "       [0.58174558, 0.17790079, 0.31254176]])"
      ]
     },
     "execution_count": 97,
     "metadata": {},
     "output_type": "execute_result"
    }
   ],
   "source": [
    "X_tilde = np.hstack(((alpha ** 0.5) * X, ((1 - alpha) ** 0.5) * np.array(Y).reshape(-1, 1)))\n",
    "snmf_mdl = SNMF(np.array(X_tilde[train_index, :]), num_bases=num_bases, random_state=random_state)\n",
    "snmf_mdl.factorize(niter=10)\n",
    "W_snmf = snmf_mdl.W\n",
    "W_snmf"
   ]
  },
  {
   "cell_type": "code",
   "execution_count": 65,
   "metadata": {},
   "outputs": [
    {
     "data": {
      "text/plain": [
       "array([[0.33739571, 0.27852767, 1.12376345],\n",
       "       [0.19753999, 1.18845234, 0.19936748],\n",
       "       [0.10810037, 0.13418135, 1.24699994],\n",
       "       [1.58040478, 0.21713344, 0.17625245],\n",
       "       [0.58174558, 0.17790079, 0.31254176]])"
      ]
     },
     "execution_count": 65,
     "metadata": {},
     "output_type": "execute_result"
    }
   ],
   "source": [
    "model.get_topics()"
   ]
  },
  {
   "cell_type": "markdown",
   "metadata": {},
   "source": [
    "## Model Choice\n",
    "Import Data"
   ]
  },
  {
   "cell_type": "code",
   "execution_count": 4,
   "metadata": {},
   "outputs": [
    {
     "name": "stdout",
     "output_type": "stream",
     "text": [
      "embeddings_train.shape = torch.Size([804, 1536])\n"
     ]
    }
   ],
   "source": [
    "import torch\n",
    "data_dir= Path(\"~/Dropbox (Princeton)/CF-Text/Software_Data/Data/Veganism\").expanduser()\n",
    "df_collection = pd.read_csv(data_dir / \"Manual_Collection.csv\", engine='python')\n",
    "df_gpt_collection = pd.read_excel(data_dir / \"GPT_Collection.xlsx\")\n",
    "df = pd.read_csv(data_dir / \"Generated_Veganism_Arguments_with_Scores.csv\")\n",
    "\n",
    "\n",
    "# import embeddings \n",
    "embeddings = torch.load(data_dir / \"Generated_Veganism_Arguments_Embeddings_all.pt\")\n",
    "\n",
    "embeddings_train = embeddings[df.Training_set == 1]\n",
    "embeddings_test = embeddings[df.Training_set == 0]\n",
    "# embeddings_train = embeddings_train[0:700,:]\n",
    "print(f\"{embeddings_train.shape = }\")"
   ]
  },
  {
   "cell_type": "code",
   "execution_count": 5,
   "metadata": {},
   "outputs": [
    {
     "name": "stdout",
     "output_type": "stream",
     "text": [
      " X_norm max: 4.8121, min: -5.1121, mean: 0.0000, sd: 1.0000\n",
      " Y_norm max: 4.6644, min: -2.1372,mean: -0.0000, sd: 1.0000\n",
      " X_norm_scaled max: 2.3104, min: -2.4545, mean: 0.0000, sd: 0.4801\n",
      "X.shape = (804, 1536)\n",
      "Beta estimate: \n",
      " [-0.1   0.67  0.04 -0.24  0.24  0.43 -0.68  0.21 -0.95  0.5 ] \n",
      "  \n",
      "In sample MSE: 0.82\n",
      "In sample 'Accuracy': 0.68\n"
     ]
    }
   ],
   "source": [
    "embeddings = embeddings_train\n",
    "Y = np.array(df.BT_Score[df.Training_set == 1])\n",
    "num_bases = 10\n",
    "random_state = 44\n",
    "alpha = 0.5\n",
    "ninter = 100\n",
    "test_size = 0.2\n",
    "n_sent = 20\n",
    "\n",
    "Y = np.array(df.BT_Score[df.Training_set == 1])\n",
    "\n",
    "X = np.array(embeddings_train)\n",
    "X_norm = (X - np.mean(X, axis=0))/(np.std(X,axis=0))\n",
    "Y_norm = (Y - np.mean(Y))/(np.std(Y))\n",
    "print(f\" X_norm max: {np.max(X_norm):.4f}, min: {np.min(X_norm):.4f}, \\\n",
    "mean: {np.mean(X_norm):.4f}, sd: {np.std(X_norm):.4f}\")\n",
    "\n",
    "print(f\" Y_norm max: {np.max(Y_norm):.4f}, min: {np.min(Y_norm):.4f},\\\n",
    "mean: {np.mean(Y_norm):.4f}, sd: {np.std(Y_norm):.4f}\")\n",
    "\n",
    "# Scale down the high-dimensional embedding to avoid dominance \n",
    "X_norm_scaled = X_norm/(X_norm.shape[1]**0.1)\n",
    "print(f\" X_norm_scaled max: {np.max(X_norm_scaled):.4f}, min: {np.min(X_norm_scaled):.4f}, \\\n",
    "mean: {np.mean(X_norm_scaled):.4f}, sd: {np.std(X_norm_scaled):.4f}\")\n",
    "\n",
    "print(f\"{X.shape = }\")\n",
    "\n",
    "np.random.seed(random_state)\n",
    "test = np.random.choice(len(Y), int(len(Y)*test_size), replace=False)\n",
    "# sort test_indices\n",
    "test = np.sort(test)\n",
    "train = np.setdiff1d(range(len(Y)), test)\n",
    "\n",
    "X_tilde = np.hstack(((alpha**0.5)*X_norm_scaled, \n",
    "                        ((1-alpha)**0.5)*np.array(Y_norm).reshape(-1,1)))\n",
    "\n",
    "# Fit SNMF model on training data\n",
    "# snmf_mdl = SNMF(np.array(X_tilde[train, :]), \n",
    "#                 num_bases=num_bases, \n",
    "#                 random_state=random_state) \n",
    "# snmf_mdl.factorize(niter=ninter)\n",
    "# W_snmf = snmf_mdl.W # Need to ensure that nonnegativity is enforced on the matrix factor with the right dimensionality\n",
    "# H_snmf = snmf_mdl.H\n",
    "\n",
    "model = suntopic(Y_norm[train], X_norm_scaled[train,:] , alpha = 0.5, num_bases = num_bases, random_state = random_state)\n",
    "model.fit(niter = ninter, verbose = False)\n",
    "W_snmf = model.get_topics()\n",
    "H_snmf = model.get_coefficients()\n",
    "\n",
    "\n",
    "\n",
    "# print all with 2 decimals\n",
    "print(f\"Beta estimate: \\n {np.round(H_snmf[:,-1], decimals=2)} \\n  \")\n",
    "print(f\"In sample MSE: {np.mean((Y_norm[train] - np.dot(W_snmf, H_snmf[:,-1])*((1-alpha)**(-0.5)))**2):.2f}\")\n",
    "print(f\"In sample 'Accuracy': {sum(np.sign(Y_norm[train]) == np.sign(np.dot(W_snmf, H_snmf[:,-1])*((1-alpha)**(-0.5))))/len(train):.2f}\")\n",
    "\n",
    "# if test_size != 0:\n",
    "#         # Predict responses on k-fold test data (exlcuding Y)\n",
    "#         snmf_mdl.update_h_with_w(newdata=X_tilde[test,0:-1].T,niter=100, show_progress=False, \n",
    "#                                 compute_h=True, compute_w=False)\n",
    "#         pred_latent = snmf_mdl.H_new.T\n",
    "#         pred_response = np.dot(pred_latent, H_snmf[:,-1])\n",
    "\n",
    "#         print(f\"\\nTest MSE: {np.mean((pred_response * ((1 - alpha) ** (-0.5)) - Y_norm[test]) ** 2):.2f}\")\n",
    "#         print(f\"Test 'Accuracy': {sum(np.sign(Y_norm[test]) == np.sign(pred_response))/len(test):.2f}\")\n"
   ]
  },
  {
   "cell_type": "code",
   "execution_count": 6,
   "metadata": {},
   "outputs": [
    {
     "data": {
      "text/plain": [
       "array([-0.74133707, -0.80071181,  0.01655644, -0.10951726,  0.13247184,\n",
       "        0.21940856,  0.61400797, -0.02167225,  0.52355752,  0.45104434,\n",
       "        0.75630818,  0.79490625,  0.66996862,  0.43335107,  0.38138091,\n",
       "        0.65225246,  0.55416471,  0.65839347,  0.32360914,  0.37892401,\n",
       "        0.628433  ,  0.50231729, -0.72184736,  0.03617464,  0.40262016,\n",
       "        0.41390184,  0.10988035, -0.30166634, -0.18282685, -0.51476339,\n",
       "       -0.61686292, -0.35727584, -0.19813148, -0.84026843,  0.13420911,\n",
       "       -0.04734617, -0.22094875,  0.33817662,  0.29032896,  0.26382569,\n",
       "       -0.58279454, -0.38793844, -0.27373368, -0.50101469, -0.69275076,\n",
       "       -0.41056082,  0.01641784,  0.23291264,  0.11314925, -0.09727913,\n",
       "        0.18314921,  0.28847874,  0.31093206, -0.04365739,  0.0078616 ,\n",
       "        0.01503486,  0.03257714,  0.44022042, -0.62558833, -0.89022577,\n",
       "       -0.01730802,  0.05939566, -0.29095215,  0.58238248,  0.1204524 ,\n",
       "        0.22077637, -0.15736448,  0.3246103 ,  0.67097227,  0.56772542,\n",
       "        0.65509091,  0.58841053,  0.49972562,  0.77068275,  0.54650335,\n",
       "        0.52133946,  0.33696916, -0.2652044 ,  0.04691341, -0.30493175,\n",
       "       -0.19936557, -0.34795325, -0.30515264, -0.38840037, -0.03323976,\n",
       "       -0.36321514, -0.18707422,  0.27146955, -0.64690734, -0.15920779,\n",
       "       -0.38491746, -0.30946607,  0.34228506, -0.08283859,  0.00498428,\n",
       "       -0.17274219, -0.56162225, -0.89449804,  0.11302252, -0.55753564,\n",
       "       -0.54202352, -0.44713924,  0.27028261,  0.1318823 ,  0.36841023,\n",
       "       -0.2535572 ,  0.2994595 , -0.18296552, -0.00380349,  0.41544559,\n",
       "       -0.25803436,  0.08950509,  0.01394217,  0.70043374,  0.7305985 ,\n",
       "        0.15038868,  0.08415508,  0.48350187,  0.21938826,  0.38507287,\n",
       "        0.11828956,  0.10534602,  0.43808335, -0.6338161 , -0.17126826,\n",
       "        0.29591457, -0.12835319, -0.380147  , -0.39187941, -0.65595002,\n",
       "       -0.33064501, -0.47298895, -0.37835322,  0.22657912,  0.77307952,\n",
       "        0.65327406,  0.15119843,  0.40466164, -0.38218482,  0.23773602,\n",
       "       -0.14194557, -0.36417597, -0.43243287, -0.02962026, -0.43173851,\n",
       "       -0.93143992, -0.08684709, -0.14029142,  0.06181449, -0.61373615,\n",
       "        0.40066913, -0.25339795,  0.55637033,  0.72445925,  0.66385892,\n",
       "        0.71610028,  0.57046179,  0.75707055, -0.04236292, -0.14974773])"
      ]
     },
     "execution_count": 6,
     "metadata": {},
     "output_type": "execute_result"
    }
   ],
   "source": [
    "Y_pred = model.predict(X_norm_scaled[test,:], return_topics=False, niter=100, random_state=random_state, verbose=False, compute_err=True)\n",
    "# np.mean((Y_pred - Y_norm[test])**2)\n",
    "Y_pred"
   ]
  },
  {
   "cell_type": "code",
   "execution_count": 7,
   "metadata": {},
   "outputs": [
    {
     "data": {
      "text/plain": [
       "array([[ True,  True,  True, ...,  True,  True,  True],\n",
       "       [ True,  True,  True, ...,  True,  True,  True],\n",
       "       [ True,  True,  True, ...,  True,  True,  True],\n",
       "       ...,\n",
       "       [ True,  True,  True, ...,  True,  True,  True],\n",
       "       [ True,  True,  True, ...,  True,  True,  True],\n",
       "       [ True,  True,  True, ...,  True,  True,  True]])"
      ]
     },
     "execution_count": 7,
     "metadata": {},
     "output_type": "execute_result"
    }
   ],
   "source": [
    "data_new = np.sqrt(alpha) * X_norm_scaled[test, :]\n",
    "data_new = np.hstack((data_new, np.zeros((data_new.shape[0], 1)))) # as there are no observations Y \n",
    "model._model_pred.data == data_new"
   ]
  },
  {
   "cell_type": "code",
   "execution_count": 8,
   "metadata": {},
   "outputs": [
    {
     "data": {
      "text/plain": [
       "array([-0.74133707, -0.80071181,  0.01655644, -0.10951726,  0.13247184,\n",
       "        0.21940856,  0.61400797, -0.02167225,  0.52355752,  0.45104434,\n",
       "        0.75630818,  0.79490625,  0.66996862,  0.43335107,  0.38138091,\n",
       "        0.65225246,  0.55416471,  0.65839347,  0.32360914,  0.37892401,\n",
       "        0.628433  ,  0.50231729, -0.72184736,  0.03617464,  0.40262016,\n",
       "        0.41390184,  0.10988035, -0.30166634, -0.18282685, -0.51476339,\n",
       "       -0.61686292, -0.35727584, -0.19813148, -0.84026843,  0.13420911,\n",
       "       -0.04734617, -0.22094875,  0.33817662,  0.29032896,  0.26382569,\n",
       "       -0.58279454, -0.38793844, -0.27373368, -0.50101469, -0.69275076,\n",
       "       -0.41056082,  0.01641784,  0.23291264,  0.11314925, -0.09727913,\n",
       "        0.18314921,  0.28847874,  0.31093206, -0.04365739,  0.0078616 ,\n",
       "        0.01503486,  0.03257714,  0.44022042, -0.62558833, -0.89022577,\n",
       "       -0.01730802,  0.05939566, -0.29095215,  0.58238248,  0.1204524 ,\n",
       "        0.22077637, -0.15736448,  0.3246103 ,  0.67097227,  0.56772542,\n",
       "        0.65509091,  0.58841053,  0.49972562,  0.77068275,  0.54650335,\n",
       "        0.52133946,  0.33696916, -0.2652044 ,  0.04691341, -0.30493175,\n",
       "       -0.19936557, -0.34795325, -0.30515264, -0.38840037, -0.03323976,\n",
       "       -0.36321514, -0.18707422,  0.27146955, -0.64690734, -0.15920779,\n",
       "       -0.38491746, -0.30946607,  0.34228506, -0.08283859,  0.00498428,\n",
       "       -0.17274219, -0.56162225, -0.89449804,  0.11302252, -0.55753564,\n",
       "       -0.54202352, -0.44713924,  0.27028261,  0.1318823 ,  0.36841023,\n",
       "       -0.2535572 ,  0.2994595 , -0.18296552, -0.00380349,  0.41544559,\n",
       "       -0.25803436,  0.08950509,  0.01394217,  0.70043374,  0.7305985 ,\n",
       "        0.15038868,  0.08415508,  0.48350187,  0.21938826,  0.38507287,\n",
       "        0.11828956,  0.10534602,  0.43808335, -0.6338161 , -0.17126826,\n",
       "        0.29591457, -0.12835319, -0.380147  , -0.39187941, -0.65595002,\n",
       "       -0.33064501, -0.47298895, -0.37835322,  0.22657912,  0.77307952,\n",
       "        0.65327406,  0.15119843,  0.40466164, -0.38218482,  0.23773602,\n",
       "       -0.14194557, -0.36417597, -0.43243287, -0.02962026, -0.43173851,\n",
       "       -0.93143992, -0.08684709, -0.14029142,  0.06181449, -0.61373615,\n",
       "        0.40066913, -0.25339795,  0.55637033,  0.72445925,  0.66385892,\n",
       "        0.71610028,  0.57046179,  0.75707055, -0.04236292, -0.14974773])"
      ]
     },
     "execution_count": 8,
     "metadata": {},
     "output_type": "execute_result"
    }
   ],
   "source": [
    "data_new = np.sqrt(alpha) * X_norm_scaled[test, :]\n",
    "data_new = np.hstack((data_new, np.zeros((data_new.shape[0], 1)))) # as there are no observations Y \n",
    "_model_pred = SNMF(data_new, num_bases, random_state=random_state)\n",
    "# _model_pred.data = data_new[:, :-1] # remove the extra column\n",
    "# _model_pred.H = model.H[:, :-1]\n",
    "_model_pred.H = model.model.H\n",
    "\n",
    "_model_pred.factorize(\n",
    "    niter=100, verbose=False, compute_h=False, compute_err=False\n",
    ")\n",
    "\n",
    "Y_pred = np.dot(_model_pred.W, model.model.H[:, -1])\n",
    "Y_pred /= np.sqrt(1 - alpha)\n",
    "Y_pred"
   ]
  },
  {
   "cell_type": "code",
   "execution_count": 9,
   "metadata": {},
   "outputs": [
    {
     "data": {
      "text/plain": [
       "0.7014262597421428"
      ]
     },
     "execution_count": 9,
     "metadata": {},
     "output_type": "execute_result"
    }
   ],
   "source": [
    "np.mean((Y_pred - Y_norm[test])**2)"
   ]
  },
  {
   "cell_type": "markdown",
   "metadata": {},
   "source": [
    "## Cross Validation "
   ]
  },
  {
   "cell_type": "code",
   "execution_count": 12,
   "metadata": {},
   "outputs": [
    {
     "name": "stdout",
     "output_type": "stream",
     "text": [
      "embeddings_train.shape = torch.Size([804, 1536])\n"
     ]
    }
   ],
   "source": [
    "import torch\n",
    "data_dir= Path(\"~/Dropbox (Princeton)/CF-Text/Software_Data/Data/Veganism\").expanduser()\n",
    "df_collection = pd.read_csv(data_dir / \"Manual_Collection.csv\", engine='python')\n",
    "df_gpt_collection = pd.read_excel(data_dir / \"GPT_Collection.xlsx\")\n",
    "df = pd.read_csv(data_dir / \"Generated_Veganism_Arguments_with_Scores.csv\")\n",
    "\n",
    "\n",
    "# import embeddings \n",
    "embeddings = torch.load(data_dir / \"Generated_Veganism_Arguments_Embeddings_all.pt\")\n",
    "\n",
    "embeddings_train = embeddings[df.Training_set == 1]\n",
    "embeddings_test = embeddings[df.Training_set == 0]\n",
    "# embeddings_train = embeddings_train[0:700,:]\n",
    "print(f\"{embeddings_train.shape = }\")\n",
    "\n",
    "X = np.array(embeddings)\n",
    "Y = np.array(df.BT_Score)\n",
    "X_norm = (X - np.mean(X, axis=0))/(np.std(X,axis=0))\n",
    "Y_norm = (Y - np.mean(Y))/(np.std(Y))\n",
    "X_norm_scaled = X_norm/(X_norm.shape[1]**0.1)"
   ]
  },
  {
   "cell_type": "code",
   "execution_count": 13,
   "metadata": {},
   "outputs": [],
   "source": [
    "model = suntopic(Y_norm, X_norm_scaled, alpha = 0.5, num_bases = 3, random_state = 0)"
   ]
  },
  {
   "cell_type": "code",
   "execution_count": 26,
   "metadata": {},
   "outputs": [],
   "source": [
    "cv_folds = 10\n",
    "num_bases_range = range(2, 11)\n",
    "niter = 100\n",
    "alpha_range = np.linspace(0.1, 0.9, 9)\n",
    "random_state = 0"
   ]
  },
  {
   "cell_type": "code",
   "execution_count": 27,
   "metadata": {},
   "outputs": [],
   "source": [
    "model.hyperparam_cv(alpha_range = alpha_range, num_bases_range = num_bases_range, cv_folds= 10,\n",
    "    random_state = 0, niter = 100, parallel=True)"
   ]
  },
  {
   "cell_type": "code",
   "execution_count": 28,
   "metadata": {},
   "outputs": [
    {
     "name": "stdout",
     "output_type": "stream",
     "text": [
      "Cross-Validation Summary\n",
      "==================================================\n",
      "Alpha candidate values:  [0.1 0.2 0.3 0.4 0.5 0.6 0.7 0.8 0.9]\n",
      "Number of topics:  range(2, 11)\n",
      "Number of folds:  10\n",
      "CV Random state:  0\n",
      "==================================================\n",
      "Top 1 hyperparam combinations - num_bases: 10.00, alpha: 0.90, MSE: 0.8440\n",
      "Top 2 hyperparam combinations - num_bases: 10.00, alpha: 0.70, MSE: 0.8444\n",
      "Top 3 hyperparam combinations - num_bases: 10.00, alpha: 0.60, MSE: 0.8464\n",
      "Top 4 hyperparam combinations - num_bases: 10.00, alpha: 0.50, MSE: 0.8469\n",
      "Top 5 hyperparam combinations - num_bases: 10.00, alpha: 0.80, MSE: 0.8490\n"
     ]
    }
   ],
   "source": [
    "model.cv_summary(top_hyperparam_combinations = 5)"
   ]
  },
  {
   "cell_type": "code",
   "execution_count": 30,
   "metadata": {},
   "outputs": [
    {
     "data": {
      "text/plain": [
       "array([[[0.96939144, 0.82031935, 1.08748633, 0.89411614, 0.69947482,\n",
       "         1.1228904 , 0.69371247, 0.75852349, 0.78221947, 0.9774346 ],\n",
       "        [0.97314451, 0.8184047 , 1.09481501, 0.87559959, 0.69988566,\n",
       "         1.10665736, 0.69768346, 0.75759285, 0.78553211, 0.9703664 ],\n",
       "        [0.97488761, 0.81923716, 1.09761175, 0.87072796, 0.70116668,\n",
       "         1.1016532 , 0.69978343, 0.75835668, 0.78758084, 0.9695521 ],\n",
       "        [0.97591354, 0.81982093, 1.09907605, 0.86858196, 0.70189791,\n",
       "         1.09939223, 0.70100651, 0.75889513, 0.78870652, 0.96931474],\n",
       "        [0.97645482, 0.82021572, 1.10000065, 0.86737215, 0.70240143,\n",
       "         1.09792903, 0.70172757, 0.7592784 , 0.78939261, 0.96928764],\n",
       "        [0.9768396 , 0.82047679, 1.10053317, 0.86662221, 0.70273051,\n",
       "         1.09703779, 0.70221031, 0.75955101, 0.78993304, 0.9696596 ],\n",
       "        [0.97725402, 0.82072039, 1.10089579, 0.86605787, 0.70296847,\n",
       "         1.09643034, 0.70254995, 0.75973909, 0.79032887, 0.96968522],\n",
       "        [0.97750955, 0.820875  , 1.10120916, 0.86560731, 0.70318007,\n",
       "         1.09599515, 0.70280688, 0.75988262, 0.79064203, 0.96969264],\n",
       "        [0.97770226, 0.82099965, 1.10139724, 0.86531153, 0.7033233 ,\n",
       "         1.09561417, 0.70300722, 0.76000107, 0.79084628, 0.96971492]],\n",
       "\n",
       "       [[0.96698146, 0.80393899, 1.03680632, 0.93713397, 0.67579778,\n",
       "         1.08656681, 0.69777023, 0.75042295, 0.76036182, 0.9978197 ],\n",
       "        [0.96983447, 0.80447269, 1.0577229 , 0.90305885, 0.67145453,\n",
       "         1.08223577, 0.69401828, 0.74982877, 0.7653625 , 0.98503763],\n",
       "        [0.97142177, 0.80552623, 1.06146002, 0.89482854, 0.67264082,\n",
       "         1.07069838, 0.69411044, 0.75051725, 0.76765596, 0.9821559 ],\n",
       "        [0.97230348, 0.8061883 , 1.06342493, 0.89097552, 0.67443115,\n",
       "         1.06906304, 0.69437557, 0.75102674, 0.76886512, 0.98093374],\n",
       "        [0.97288131, 0.80662094, 1.06445167, 0.8887787 , 0.67497013,\n",
       "         1.06804647, 0.69466778, 0.75136643, 0.76969179, 0.9802615 ],\n",
       "        [0.97326002, 0.80692577, 1.06527929, 0.88430616, 0.6753437 ,\n",
       "         1.06739323, 0.69484496, 0.75160977, 0.77021989, 0.97984968],\n",
       "        [0.97359565, 0.80715141, 1.06544176, 0.88344266, 0.67559213,\n",
       "         1.0667879 , 0.69498779, 0.75179136, 0.770844  , 0.97956767],\n",
       "        [0.97386661, 0.80732422, 1.06589874, 0.88269808, 0.67584793,\n",
       "         1.06644919, 0.69508631, 0.75193166, 0.77664701, 0.97936595],\n",
       "        [0.97403064, 0.80746775, 1.06625511, 0.88215985, 0.67601454,\n",
       "         1.06623691, 0.69517293, 0.75202166, 0.77686447, 0.97921365]],\n",
       "\n",
       "       [[0.95992615, 0.82113319, 1.09042939, 0.90565378, 0.73376964,\n",
       "         1.10060202, 0.68889545, 0.77744084, 0.72733717, 0.96659116],\n",
       "        [0.95302763, 0.80747562, 1.08191814, 0.88198388, 0.70391126,\n",
       "         1.07946445, 0.68474425, 0.75362963, 0.73712995, 0.96110068],\n",
       "        [0.95487093, 0.80653309, 1.08219335, 0.87646546, 0.69888807,\n",
       "         1.07446955, 0.6854152 , 0.75214536, 0.74100405, 0.960021  ],\n",
       "        [0.96315797, 0.80640655, 1.08267164, 0.87344707, 0.69595346,\n",
       "         1.07229413, 0.68664214, 0.75180136, 0.74299489, 0.95949045],\n",
       "        [0.96375581, 0.80638209, 1.08306045, 0.87039839, 0.6954044 ,\n",
       "         1.07102103, 0.68627476, 0.75168562, 0.74430274, 0.95933298],\n",
       "        [0.96406125, 0.80641837, 1.08335381, 0.87106824, 0.6951573 ,\n",
       "         1.07011887, 0.68642916, 0.75167621, 0.74510223, 0.95916259],\n",
       "        [0.96437258, 0.80647011, 1.0814083 , 0.87027141, 0.69499419,\n",
       "         1.06931824, 0.68662598, 0.75157403, 0.74566924, 0.95904856],\n",
       "        [0.96467693, 0.80651887, 1.08158129, 0.86970231, 0.6948869 ,\n",
       "         1.06886669, 0.68678025, 0.75157657, 0.74749033, 0.9589749 ],\n",
       "        [0.96485462, 0.80656251, 1.08172956, 0.86926385, 0.69481197,\n",
       "         1.06853486, 0.6868308 , 0.75159234, 0.74783797, 0.95892408]],\n",
       "\n",
       "       [[0.94430694, 0.81836782, 1.0900862 , 0.90320217, 0.73444126,\n",
       "         1.1126793 , 0.69538433, 0.78495793, 0.73618442, 0.96663411],\n",
       "        [0.95290745, 0.80828889, 1.08297608, 0.88363562, 0.69636667,\n",
       "         1.08732948, 0.68568611, 0.76154326, 0.73692211, 0.96363106],\n",
       "        [0.95210931, 0.80764187, 1.08517459, 0.87689056, 0.69692918,\n",
       "         1.08140576, 0.68568907, 0.75853875, 0.74105053, 0.96226003],\n",
       "        [0.9561822 , 0.8073036 , 1.0856737 , 0.87639638, 0.69151766,\n",
       "         1.07873046, 0.68610733, 0.75759487, 0.74301965, 0.96171417],\n",
       "        [0.95923662, 0.80733318, 1.0858832 , 0.8744213 , 0.69115837,\n",
       "         1.07721878, 0.68636951, 0.75718853, 0.74429601, 0.96144036],\n",
       "        [0.95970236, 0.80739214, 1.08617188, 0.86932961, 0.69096494,\n",
       "         1.07624471, 0.68658516, 0.75696558, 0.7452105 , 0.96127853],\n",
       "        [0.95704152, 0.80744091, 1.08578674, 0.86857513, 0.69085686,\n",
       "         1.07239599, 0.68674311, 0.75682257, 0.74582048, 0.9605108 ],\n",
       "        [0.95753038, 0.80748865, 1.08594554, 0.86802039, 0.69080262,\n",
       "         1.07397693, 0.68687292, 0.75672837, 0.74756733, 0.96107164],\n",
       "        [0.95749577, 0.80753351, 1.08608987, 0.86757298, 0.69074225,\n",
       "         1.07360429, 0.68697823, 0.75666209, 0.7480022 , 0.96101687]],\n",
       "\n",
       "       [[0.96530201, 0.82624827, 1.09296518, 0.91313797, 0.73110184,\n",
       "         1.11276512, 0.73881835, 0.79591371, 0.73335483, 0.97169723],\n",
       "        [0.95315681, 0.80952522, 1.09577307, 0.88684756, 0.69728653,\n",
       "         1.08282426, 0.68916688, 0.76490548, 0.74074898, 0.96475518],\n",
       "        [0.95299261, 0.80856524, 1.08383444, 0.87954109, 0.69407197,\n",
       "         1.07717633, 0.68713101, 0.76131883, 0.74382614, 0.96319726],\n",
       "        [0.95563342, 0.80801746, 1.08420262, 0.87608374, 0.69304177,\n",
       "         1.07476897, 0.68746131, 0.76006286, 0.74539918, 0.96262968],\n",
       "        [0.95395802, 0.80807939, 1.08452389, 0.87464469, 0.69269877,\n",
       "         1.07339495, 0.68763066, 0.75973558, 0.74643729, 0.96227507],\n",
       "        [0.95446489, 0.80809494, 1.08478033, 0.87195333, 0.69236831,\n",
       "         1.07246528, 0.68782115, 0.75934657, 0.74697688, 0.9621236 ],\n",
       "        [0.95542348, 0.8081584 , 1.08490438, 0.87108267, 0.69231538,\n",
       "         1.07401724, 0.68796488, 0.7592694 , 0.74748123, 0.96221869],\n",
       "        [0.95676172, 0.80822015, 1.0834836 , 0.87109055, 0.69220374,\n",
       "         1.07353102, 0.68810505, 0.75904209, 0.74967886, 0.96190861],\n",
       "        [0.95697817, 0.80826506, 1.08361487, 0.87016552, 0.69214476,\n",
       "         1.07315232, 0.68819753, 0.7590344 , 0.74994544, 0.96184698]],\n",
       "\n",
       "       [[1.07087936, 0.89042208, 1.10601204, 0.8574976 , 0.86657182,\n",
       "         1.1656602 , 0.77479302, 0.84611864, 0.86030118, 0.98111579],\n",
       "        [0.95530315, 0.83337218, 1.09932437, 0.89857267, 0.69720793,\n",
       "         1.08480486, 0.70762739, 0.78546244, 0.74070918, 0.99519099],\n",
       "        [0.95454594, 0.82209288, 1.09037875, 0.88384598, 0.69385639,\n",
       "         1.00725184, 0.69976397, 0.76772855, 0.73905955, 0.95368247],\n",
       "        [0.95732536, 0.82222393, 1.06733892, 0.87299991, 0.69864342,\n",
       "         1.09183779, 0.69794148, 0.76572034, 0.73807788, 0.96473646],\n",
       "        [0.95757684, 0.82087814, 1.09076235, 0.87161145, 0.69751137,\n",
       "         1.07969685, 0.69722477, 0.764775  , 0.75289997, 0.9531536 ],\n",
       "        [0.95786742, 0.82037569, 1.0899855 , 0.8672036 , 0.69690907,\n",
       "         1.06452636, 0.69686593, 0.76385727, 0.74876923, 0.96380574],\n",
       "        [0.95811462, 0.81991015, 1.09306715, 0.8664906 , 0.69652195,\n",
       "         1.07739868, 0.69663906, 0.76355483, 0.74148429, 0.97221174],\n",
       "        [0.9584055 , 0.81959644, 1.08499378, 0.86596063, 0.69622568,\n",
       "         1.07722351, 0.69664827, 0.76374502, 0.7638529 , 0.96987541],\n",
       "        [0.95846962, 0.81937197, 1.08516802, 0.86563756, 0.69601776,\n",
       "         1.07646077, 0.69652085, 0.76327373, 0.76367021, 0.9696283 ]],\n",
       "\n",
       "       [[1.04675171, 0.85829244, 1.11797529, 0.86965223, 0.82455299,\n",
       "         0.94886058, 0.82757251, 0.79231601, 0.85142379, 0.99886139],\n",
       "        [0.96729279, 0.80668746, 1.07319413, 0.88453258, 0.68000443,\n",
       "         1.0520633 , 0.68108759, 0.78276754, 0.7780315 , 1.00162395],\n",
       "        [0.94943672, 0.82806965, 1.07637921, 0.85894273, 0.70332748,\n",
       "         1.04165624, 0.68755066, 0.76844188, 0.76060791, 0.96587075],\n",
       "        [0.95864885, 0.82442538, 1.07771172, 0.84864243, 0.6967331 ,\n",
       "         1.04358551, 0.68018529, 0.76640287, 0.75215787, 0.96370555],\n",
       "        [0.95726736, 0.82272968, 1.07851726, 0.89983085, 0.70098168,\n",
       "         1.0439959 , 0.68118154, 0.76506208, 0.75335191, 0.96261971],\n",
       "        [0.95864321, 0.82192143, 1.07905436, 0.88990757, 0.69951469,\n",
       "         1.04424294, 0.68164649, 0.71989517, 0.75319079, 0.9615083 ],\n",
       "        [0.95889123, 0.82144619, 1.07943966, 0.89403152, 0.71144023,\n",
       "         1.07878686, 0.68140329, 0.72104582, 0.75466727, 0.95994174],\n",
       "        [0.95900254, 0.82107631, 1.07971378, 0.88573174, 0.71064101,\n",
       "         1.07771824, 0.68224909, 0.72187753, 0.74664894, 0.96212369],\n",
       "        [0.9590518 , 0.82085173, 1.07998337, 0.88341287, 0.71004138,\n",
       "         1.07713503, 0.69675942, 0.72250653, 0.74659313, 0.96084805]],\n",
       "\n",
       "       [[1.02449971, 0.86778583, 1.1147813 , 0.87348002, 0.82676484,\n",
       "         0.91194681, 0.80530736, 0.77831408, 0.84407684, 1.01782111],\n",
       "        [0.98714642, 0.84827143, 1.1039323 , 0.86263268, 0.73147289,\n",
       "         1.04270797, 0.70233374, 0.75643192, 0.77339027, 0.96845712],\n",
       "        [0.9696891 , 0.82989437, 1.0913032 , 0.85841153, 0.7084436 ,\n",
       "         0.99809411, 0.69491507, 0.76421546, 0.76211662, 0.97744337],\n",
       "        [0.94935872, 0.82538316, 1.08832784, 0.857626  , 0.70247099,\n",
       "         1.00187163, 0.67223742, 0.76219554, 0.75694356, 0.97362823],\n",
       "        [0.9603649 , 0.82476873, 1.0874646 , 0.88345912, 0.70064   ,\n",
       "         1.00408325, 0.67369118, 0.76108195, 0.75975185, 0.97232126],\n",
       "        [0.95949586, 0.82346184, 1.086996  , 0.88084242, 0.69904837,\n",
       "         1.00538178, 0.68713081, 0.71984786, 0.75595134, 0.9711363 ],\n",
       "        [0.96119611, 0.8227282 , 1.08683044, 0.87903887, 0.70727753,\n",
       "         1.04244919, 0.6870815 , 0.72028544, 0.75538018, 0.97029897],\n",
       "        [0.9611918 , 0.82220223, 1.08668686, 0.87759436, 0.69738188,\n",
       "         1.04216935, 0.68691824, 0.72064785, 0.74112359, 0.96941866],\n",
       "        [0.96409519, 0.82181812, 1.08654726, 0.87661497, 0.69689636,\n",
       "         1.04261745, 0.68842536, 0.72094548, 0.74110282, 0.96954478]],\n",
       "\n",
       "       [[1.03358494, 0.86139934, 1.10597624, 0.8817749 , 0.80183413,\n",
       "         0.96249178, 0.80859346, 0.77571583, 0.88770598, 0.9992537 ],\n",
       "        [0.98940694, 0.81488142, 1.05929856, 0.90195054, 0.73774118,\n",
       "         0.99321979, 0.71124934, 0.72318753, 0.76989174, 0.95809017],\n",
       "        [0.96501738, 0.81108244, 1.04968911, 0.85826204, 0.70652035,\n",
       "         1.00227289, 0.69537774, 0.72926653, 0.75304793, 0.93927844],\n",
       "        [0.94936398, 0.80158881, 1.05172535, 0.86861995, 0.70129579,\n",
       "         1.00676913, 0.68609107, 0.76666887, 0.75224435, 0.93643966],\n",
       "        [0.9440513 , 0.79066577, 1.05256599, 0.87922556, 0.69413476,\n",
       "         1.00887576, 0.68519159, 0.72287157, 0.75027085, 0.94121144],\n",
       "        [0.9437569 , 0.79042846, 1.05244254, 0.87671768, 0.69296964,\n",
       "         1.01012778, 0.68641946, 0.72475688, 0.74933194, 0.93745591],\n",
       "        [0.94355325, 0.79031751, 1.05308775, 0.87130259, 0.68516692,\n",
       "         1.00669292, 0.68376466, 0.72384254, 0.74879685, 0.93780226],\n",
       "        [0.94432352, 0.79483175, 1.05331639, 0.87453402, 0.69515128,\n",
       "         1.03398465, 0.68510964, 0.72628356, 0.74379726, 0.93871976],\n",
       "        [0.94297033, 0.78847518, 1.05336864, 0.86802847, 0.69477991,\n",
       "         1.00702267, 0.68246753, 0.73065313, 0.73369889, 0.93816033]]])"
      ]
     },
     "execution_count": 30,
     "metadata": {},
     "output_type": "execute_result"
    }
   ],
   "source": [
    "model.cv_errors"
   ]
  },
  {
   "cell_type": "code",
   "execution_count": 31,
   "metadata": {},
   "outputs": [
    {
     "data": {
      "image/png": "[encoded data removed]",
      "text/plain": [
       "<Figure size 600x500 with 1 Axes>"
      ]
     },
     "metadata": {},
     "output_type": "display_data"
    }
   ],
   "source": [
    "model.cv_mse_plot(benchmark = 0.85, figsize = (6, 5))"
   ]
  },
  {
   "cell_type": "code",
   "execution_count": 3,
   "metadata": {},
   "outputs": [
    {
     "name": "stderr",
     "output_type": "stream",
     "text": [
      "2024-04-03 12:13:44,045 [INFO] SNMF - Initial Assignment: [0 1 1]\n",
      "2024-04-03 12:13:44,046 [INFO] FN: 6.977439325329257 (1 / 2)\n",
      "2024-04-03 12:13:44,047 [INFO] FN: 6.929638965422419 (2 / 2)\n"
     ]
    }
   ],
   "source": [
    "np.random.seed(44)\n",
    "# Generate a random matrix X \n",
    "X = np.random.randn(3, 50)\n",
    "snmf_test = SNMF(X, num_bases=2, random_state=44, legacy_mode=True)\n",
    "snmf_test.factorize(niter=2, show_progress=True)"
   ]
  },
  {
   "cell_type": "code",
   "execution_count": 4,
   "metadata": {},
   "outputs": [
    {
     "name": "stderr",
     "output_type": "stream",
     "text": [
      "2024-04-03 12:13:53,887 [INFO] SNMF - Initial Assignment: [0 1 1]\n",
      "2024-04-03 12:13:53,887 [INFO] FN: 6.977439325329257 (1 / 2)\n",
      "2024-04-03 12:13:53,888 [INFO] FN: 6.929638965422419 (2 / 2)\n"
     ]
    }
   ],
   "source": [
    "snmf_test = SNMF(X, num_bases=2, random_state=44, legacy_mode=True)\n",
    "snmf_test.factorize(niter=2, show_progress=True)"
   ]
  },
  {
   "cell_type": "code",
   "execution_count": 5,
   "metadata": {},
   "outputs": [
    {
     "name": "stdout",
     "output_type": "stream",
     "text": [
      "[[-7.50614717e-01  1.31635732e+00  1.24614003e+00 -1.60491574e+00\n",
      "  -1.46814368e+00 -1.71507046e+00  1.85878369e+00  8.75879763e-02\n",
      "  -5.23221964e-02  5.55471637e-01 -9.63403694e-01 -1.80321465e-01\n",
      "  -1.18340916e+00  6.05445921e-01 -9.51650553e-01  3.60856060e-01\n",
      "   1.06061026e+00 -1.17152178e-01  8.25664851e-01 -1.20981355e+00\n",
      "  -1.19050362e+00  2.19871821e-01 -2.12919130e-01 -1.41149914e+00\n",
      "  -4.82981016e-01  1.20176208e+00 -7.05803033e-01  2.51813547e-02\n",
      "  -3.91128155e-01  1.93139124e-01  3.49290932e-01  5.91188382e-01\n",
      "   5.20409870e-01  8.25222389e-01  4.26203507e-01  1.95640026e-01\n",
      "  -5.14112178e-01 -3.07368882e+00 -3.95159070e-01 -7.95399184e-01\n",
      "  -7.03201512e-01 -1.73739268e+00  7.50808258e-01 -1.86395314e+00\n",
      "   4.18510984e-01 -2.35333837e-01  4.32107174e-01  8.70291930e-01\n",
      "   2.00862219e+00  1.37177091e+00]\n",
      " [ 1.05859789e+00  1.44533756e+00  4.88232904e-02  9.03295203e-02\n",
      "  -4.80256813e-01  3.00662736e-01  1.11297983e+00 -1.93150462e-02\n",
      "  -8.07598399e-04 -6.38530234e-01  1.59468337e+00  1.86129868e-02\n",
      "   5.61408670e-01 -1.98476822e-01  4.63207552e-01 -1.81909398e+00\n",
      "   1.32924819e-01 -6.17079638e-01  1.30817950e+00  7.75837713e-01\n",
      "  -2.80170397e-01 -7.23937713e-01 -9.43310039e-01  5.61686243e-01\n",
      "  -6.92792641e-01  1.70175958e+00 -1.05172261e+00 -6.61151557e-01\n",
      "  -1.01089971e+00 -1.45888071e+00  3.90553333e-01 -8.10444201e-01\n",
      "   1.15767193e+00  3.17631167e-02 -1.89692831e+00 -8.64950954e-01\n",
      "  -5.71974963e-02  1.23101785e+00 -5.33551498e-01 -3.35974342e-01\n",
      "  -1.55572381e+00  1.21863875e+00 -2.25764275e+00  2.21017836e-01\n",
      "  -5.51716492e-02  2.81184498e-01  5.98645681e-01  1.02717436e+00\n",
      "   6.94197136e-03 -1.75330973e+00]\n",
      " [ 1.54923038e+00 -6.45376819e-01  8.79338162e-01 -3.18381870e-01\n",
      "   7.27357907e-01 -6.55816768e-02 -4.51052294e-01  8.53530308e-01\n",
      "  -2.53568226e+00 -3.87483506e-01 -2.10749839e-02  3.16222125e-01\n",
      "  -6.29815554e-01 -1.97968150e+00  2.76684719e-01 -1.23644371e+00\n",
      "   5.73334638e-01  3.18485719e-01 -7.87196880e-02  1.47719317e+00\n",
      "   1.12812904e+00 -1.08470932e+00 -1.85112688e+00  1.33313831e+00\n",
      "   2.24091373e+00 -7.83068449e-01  2.43543790e-01 -1.01005284e+00\n",
      "  -7.17658005e-01  2.90084818e+00  3.85936084e-01  3.98201731e-02\n",
      "   1.07510718e-01 -1.28453573e+00  3.41980156e-01  1.83181263e+00\n",
      "   1.44934311e+00 -5.28121837e-01 -9.10642768e-01  6.51202061e-01\n",
      "   1.63481318e-02 -1.36787137e-01 -7.77654562e-01  7.96829721e-01\n",
      "   3.83116319e-02 -6.00691302e-02  7.48799734e-03  3.84785474e-01\n",
      "  -1.02671931e+00 -1.07990219e+00]]\n",
      "(3, 2)\n",
      "[[1.17797732 0.2087255 ]\n",
      " [0.34645526 0.84559617]\n",
      " [0.14539624 1.46598459]]\n",
      "[[-0.80267244  1.36060009  0.90024422 -1.28755122 -1.41040407 -1.40454204\n",
      "   1.75164169 -0.07776795  0.40059172  0.47474941 -0.65515775 -0.20559119\n",
      "  -0.83270751  0.83826749 -0.8058675   0.3466136   0.80567418 -0.21366554\n",
      "   0.83469297 -1.20397126 -1.22763569  0.30613543  0.05494692 -1.36912669\n",
      "  -0.86629273  1.31277382 -0.73805959  0.13504014 -0.30046357 -0.48583546\n",
      "   0.26397705  0.41342366  0.53045239  0.92354565  0.11736057 -0.23933129\n",
      "  -0.69279653 -2.37885053 -0.22428498 -0.81647817 -0.74429769 -1.32292411\n",
      "   0.55264664 -1.68885933  0.34056615 -0.16078402  0.42005637  0.7640741\n",
      "   1.8728926   1.17709454]\n",
      " [ 1.24297945 -0.16167407  0.31355534  0.08413558  0.48627001  0.29518286\n",
      "  -0.2229733   0.45078035 -1.3851298  -0.4643786   0.55468435  0.20502201\n",
      "  -0.02297159 -1.22876441  0.41476171 -1.21695439  0.19508302  0.02750018\n",
      "   0.18477192  1.19522359  0.71909032 -0.82094456 -1.23700905  1.08852179\n",
      "   1.11663268 -0.1521408  -0.04340636 -0.73470541 -0.60645967  1.17581188\n",
      "   0.2649776  -0.28077919  0.29159016 -0.81776629 -0.38041951  0.74672422\n",
      "   0.85595945  0.48810788 -0.58456125  0.38445687 -0.30296217  0.50414013\n",
      "  -1.13901347  0.76936302 -0.05492657  0.07643781  0.10050804  0.3578575\n",
      "  -0.85600059 -1.26140091]]\n"
     ]
    }
   ],
   "source": [
    "np.random.seed(44)\n",
    "# Generate a random matrix X \n",
    "X = np.random.randn(3, 50)\n",
    "snmf_test = SNMF(X, num_bases=2, random_state=44, legacy_mode=True)\n",
    "snmf_test.factorize(niter=20, show_progress=False)\n",
    "H_test = snmf_test.H\n",
    "W_test = snmf_test.W\n",
    "\n",
    "print(X)\n",
    "print(W_test.shape)\n",
    "print(W_test)\n",
    "print(H_test)"
   ]
  },
  {
   "cell_type": "code",
   "execution_count": 6,
   "metadata": {},
   "outputs": [
    {
     "name": "stdout",
     "output_type": "stream",
     "text": [
      "(3, 2)\n",
      "[[1.17797732 0.2087255 ]\n",
      " [0.34645526 0.84559617]\n",
      " [0.14539624 1.46598459]]\n",
      "[[-0.80267244  1.36060009  0.90024422 -1.28755122 -1.41040407 -1.40454204\n",
      "   1.75164169 -0.07776795  0.40059172  0.47474941 -0.65515775 -0.20559119\n",
      "  -0.83270751  0.83826749 -0.8058675   0.3466136   0.80567418 -0.21366554\n",
      "   0.83469297 -1.20397126 -1.22763569  0.30613543  0.05494692 -1.36912669\n",
      "  -0.86629273  1.31277382 -0.73805959  0.13504014 -0.30046357 -0.48583546\n",
      "   0.26397705  0.41342366  0.53045239  0.92354565  0.11736057 -0.23933129\n",
      "  -0.69279653 -2.37885053 -0.22428498 -0.81647817 -0.74429769 -1.32292411\n",
      "   0.55264664 -1.68885933  0.34056615 -0.16078402  0.42005637  0.7640741\n",
      "   1.8728926   1.17709454]\n",
      " [ 1.24297945 -0.16167407  0.31355534  0.08413558  0.48627001  0.29518286\n",
      "  -0.2229733   0.45078035 -1.3851298  -0.4643786   0.55468435  0.20502201\n",
      "  -0.02297159 -1.22876441  0.41476171 -1.21695439  0.19508302  0.02750018\n",
      "   0.18477192  1.19522359  0.71909032 -0.82094456 -1.23700905  1.08852179\n",
      "   1.11663268 -0.1521408  -0.04340636 -0.73470541 -0.60645967  1.17581188\n",
      "   0.2649776  -0.28077919  0.29159016 -0.81776629 -0.38041951  0.74672422\n",
      "   0.85595945  0.48810788 -0.58456125  0.38445687 -0.30296217  0.50414013\n",
      "  -1.13901347  0.76936302 -0.05492657  0.07643781  0.10050804  0.3578575\n",
      "  -0.85600059 -1.26140091]]\n"
     ]
    }
   ],
   "source": [
    "print(W_test.shape)\n",
    "print(W_test)\n",
    "print(H_test)"
   ]
  },
  {
   "cell_type": "code",
   "execution_count": 14,
   "metadata": {},
   "outputs": [
    {
     "name": "stdout",
     "output_type": "stream",
     "text": [
      "Assign: [0 1 1]\n",
      "H1: [[1.52 0.72]\n",
      " [0.72 2.92]] \n",
      " H2: [[-3.79172008e-01  1.73962094e+00  1.68100032e+00 -1.97150936e+00\n",
      "  -1.71235220e+00 -2.01106834e+00  2.36292594e+00  2.71948624e-01\n",
      "  -5.70084607e-01  4.61363216e-01 -8.41362757e-01 -1.49418736e-01\n",
      "  -1.43377236e+00  2.90903440e-01 -9.94002210e-01 -1.78080266e-01\n",
      "   1.41398420e+00 -2.00301398e-01  1.23668978e+00 -1.00117009e+00\n",
      "  -1.25901261e+00 -9.78832212e-02 -8.14390340e-01 -1.31483406e+00\n",
      "  -2.69953001e-01  1.62585272e+00 -1.00859940e+00 -3.04023254e-01\n",
      "  -8.15065329e-01  5.20160442e-01  5.74447002e-01  5.55301253e-01\n",
      "   8.77528374e-01  7.39712344e-01  2.00454578e-01  4.28140366e-01\n",
      "  -3.38505490e-01 -3.54784737e+00 -7.63029738e-01 -8.91433477e-01\n",
      "  -1.15171695e+00 -1.86850089e+00  2.93910448e-01 -2.03317426e+00\n",
      "   4.98841178e-01 -2.38177531e-01  6.39755345e-01  1.32674228e+00\n",
      "   2.20639116e+00  1.07948270e+00]\n",
      " [ 2.97927097e+00  1.22322436e+00  1.36302175e+00 -5.94645968e-01\n",
      "   2.89257694e-03 -6.09168210e-02  1.16606978e+00  1.01857591e+00\n",
      "  -3.05425227e+00 -1.12012216e+00  1.69564932e+00  3.65737841e-01\n",
      "  -3.18770092e-01 -2.49270081e+00  6.97540615e-01 -3.59447401e+00\n",
      "   1.05963340e+00 -3.81743139e-01  1.64048475e+00  2.46167435e+00\n",
      "   7.79449644e-01 -2.12640207e+00 -3.39590813e+00  1.99148964e+00\n",
      "   1.76114910e+00  1.34278177e+00 -1.11097518e+00 -2.00040901e+00\n",
      "  -2.15249489e+00  1.76898879e+00  1.00164549e+00 -8.06511157e-01\n",
      "   1.62230116e+00 -1.33828266e+00 -1.78069708e+00  1.19936201e+00\n",
      "   1.56775231e+00  2.28737458e-01 -1.81206493e+00  2.19193426e-01\n",
      "  -1.98789111e+00  9.50743403e-01 -3.49219512e+00  8.48626440e-01\n",
      "   6.34701761e-02  2.18271674e-01  8.13781849e-01  1.86841019e+00\n",
      "  -8.22008374e-01 -3.12550013e+00]] \n",
      "\n",
      "W1: [[52.01104509 20.83798565]\n",
      " [20.83798565 24.92032284]\n",
      " [20.83798565 30.34653503]] \n",
      " W2: [[52.01104509 20.83798566]\n",
      " [17.04781669 27.63342894]\n",
      " [24.62815463 27.63342894]]\n",
      "H1: [[1.5227372  0.72332401]\n",
      " [0.72332401 2.92      ]] \n",
      " H2: [[-0.38165437  1.7804899   1.66793368 -1.96449746 -1.73415522 -2.00366762\n",
      "   2.39366083  0.25785681 -0.52944922  0.45409113 -0.80734886 -0.15409539\n",
      "  -1.41181941  0.31845062 -0.98865619 -0.19667247  1.40759947 -0.2184387\n",
      "   1.26557755 -1.00846878 -1.2830155  -0.09578088 -0.80463332 -1.32434562\n",
      "  -0.32050985  1.67434422 -1.03471388 -0.30179192 -0.82490759  0.44284542\n",
      "   0.5765072   0.53754814  0.9002521   0.76097698  0.15491316  0.3805067\n",
      "  -0.36294946 -3.5133842  -0.75969755 -0.90896865 -1.18483233 -1.84057307\n",
      "   0.25870174 -2.04128177  0.49706186 -0.23127653  0.65227731  1.34226489\n",
      "   2.22299827  1.05977002]\n",
      " [ 3.0044265   1.09875277  1.41065979 -0.61842122  0.07375992 -0.08285905\n",
      "   1.07286236  1.06884688 -3.20008169 -1.10382723  1.59806882  0.38280535\n",
      "  -0.38892988 -2.59459809  0.68546631 -3.55567746  1.08458468 -0.32612996\n",
      "   1.55690161  2.49977299  0.86128203 -2.14505742 -3.44539876  2.03424214\n",
      "   1.93193528  1.19489296 -1.03340759 -2.01856357 -2.13269236  2.02403645\n",
      "   1.00024699 -0.75524448  1.55852718 -1.41410169 -1.64638994  1.35701621\n",
      "   1.65458975  0.12396308 -1.8322114   0.2769604  -1.89293691  0.86923066\n",
      "  -3.40050248  0.88111189  0.06900832  0.19782367  0.77803598  1.82847396\n",
      "  -0.88149522 -3.08167311]] \n",
      "\n",
      "W1: [[52.20665176 21.251539  ]\n",
      " [20.18133211 24.16630608]\n",
      " [22.27037615 31.53052048]] \n",
      " W2: [[52.36056248 21.13868081]\n",
      " [16.86943064 26.59482575]\n",
      " [25.24713071 29.34775416]]\n",
      "H1: [[1.52411298 0.72822172]\n",
      " [0.72822172 2.91924638]] \n",
      " H2: [[-0.37570987  1.81535224  1.65691084 -1.95623078 -1.74965717 -1.99367325\n",
      "   2.41850128  0.24775469 -0.50101106  0.44420594 -0.77234942 -0.15692828\n",
      "  -1.39104606  0.3354104  -0.98046748 -0.22119543  1.40207057 -0.23458852\n",
      "   1.29212391 -1.00677064 -1.29934176 -0.09904582 -0.80311008 -1.32512032\n",
      "  -0.35908686  1.71626547 -1.05799816 -0.30424652 -0.83714946  0.37980979\n",
      "   0.5796714   0.51925599  0.92213361  0.77454707  0.11100583  0.34173846\n",
      "  -0.37943942 -3.47652873 -0.75987661 -0.92181465 -1.21602963 -1.81071\n",
      "   0.21926616 -2.04232234  0.49475078 -0.22435934  0.66384291  1.35772179\n",
      "   2.2310813   1.03307579]\n",
      " [ 3.01877945  0.99281376  1.44910791 -0.6387114   0.13196794 -0.10280337\n",
      "   0.99384371  1.10912212 -3.31652118 -1.08730876  1.51162972  0.39624052\n",
      "  -0.4483953  -2.67462086  0.67298842 -3.51535727  1.10439971 -0.27869032\n",
      "   1.48403263  2.52563689  0.92738433 -2.15618879 -3.48027247  2.06479161\n",
      "   2.07150361  1.06890817 -0.9665678  -2.02971501 -2.11200413  2.23508737\n",
      "   0.99735094 -0.70992366  1.50206669 -1.47434792 -1.52939702  1.48732966\n",
      "   1.72392589  0.03248646 -1.84581937  0.32434283 -1.80967909  0.7970986\n",
      "  -3.31553996  0.90493871  0.07393027  0.1799592   0.74671712  1.79188655\n",
      "  -0.92794755 -3.03712922]] \n",
      "\n",
      "W1: [[52.34275208 21.58695576]\n",
      " [19.57026187 23.5423183 ]\n",
      " [23.4825866  32.51500405]] \n",
      " W2: [[52.57735541 21.41060125]\n",
      " [16.76127726 25.65387026]\n",
      " [25.78748625 30.78237962]]\n",
      "H1: [[1.52484069 0.73356367]\n",
      " [0.73356367 2.91808011]] \n",
      " H2: [[-0.36532106  1.84508601  1.64757805 -1.94765987 -1.76083178 -1.98270775\n",
      "   2.43877306  0.24039906 -0.48084877  0.43334215 -0.73853843 -0.15858201\n",
      "  -1.37196503  0.34556777 -0.9710833  -0.24782815  1.39729086 -0.24881315\n",
      "   1.31602097 -1.00009209 -1.31052858 -0.10516551 -0.80628855 -1.32093551\n",
      "  -0.38899921  1.75238939 -1.07852247 -0.30921199 -0.85012484  0.32794868\n",
      "   0.58329516  0.50157082  0.94244392  0.78310824  0.07020857  0.30988898\n",
      "  -0.39063107 -3.4401477  -0.76201692 -0.93137713 -1.24458398 -1.78123893\n",
      "   0.17942087 -2.03932508  0.49225316 -0.21777706  0.67428954  1.37236234\n",
      "   2.23395445  1.00378206]\n",
      " [ 3.02587197  0.90454556  1.47972089 -0.65567855  0.17900594 -0.12031976\n",
      "   0.92823086  1.14095808 -3.40827139 -1.07171151  1.43725054  0.40668321\n",
      "  -0.49779534 -2.73668545  0.66106208 -3.4767253   1.11994763 -0.2390842\n",
      "   1.42212577  2.54265705  0.9800144  -2.16219437 -3.50434681  2.08621289\n",
      "   2.18382144  0.96385394 -0.91030996 -2.03604708 -2.09212857  2.40682374\n",
      "   0.99376747 -0.67098601  1.45351935 -1.52159429 -1.43004758  1.5932668\n",
      "   1.77855308 -0.04537041 -1.85472807  0.36259111 -1.73862365  0.73506733\n",
      "  -3.23996036  0.92213973  0.07818082  0.16475133  0.72000649  1.75961899\n",
      "  -0.96375701 -2.99500432]] \n",
      "\n",
      "W1: [[52.42518936 21.84694263]\n",
      " [19.01582458 23.03329854]\n",
      " [24.47975702 33.31786666]] \n",
      " W2: [[52.68951618 21.6430946 ]\n",
      " [16.69343152 24.82432098]\n",
      " [26.24405689 31.957244  ]]\n",
      "H1: [[1.52534359 0.73866215]\n",
      " [0.73866215 2.91674134]] \n",
      " H2: [[-0.35318562  1.87019096  1.63973675 -1.93945707 -1.76897079 -1.9719006\n",
      "   2.45530856  0.23498368 -0.46640822  0.42262959 -0.70748187 -0.15949627\n",
      "  -1.35498717  0.3514219  -0.96163972 -0.27393146  1.39321112 -0.26110949\n",
      "   1.33699202 -0.99114442 -1.3182422  -0.11244104 -0.81180106 -1.31433617\n",
      "  -0.41236839  1.78312439 -1.0962726  -0.3152197  -0.86268208  0.28535542\n",
      "   0.58693872  0.48531825  0.96063455  0.78843195  0.03364014  0.28376123\n",
      "  -0.39826552 -3.40629131 -0.76507899 -0.93856932 -1.2699245  -1.75381923\n",
      "   0.14184721 -2.03433434  0.48981022 -0.21178667  0.68347796  1.38564396\n",
      "   2.2338346   0.97491758]\n",
      " [ 3.02839983  0.83230464  1.50384862 -0.66963636  0.21651002 -0.13529108\n",
      "   0.87469727  1.16586722 -3.47984995 -1.05770243  1.37476012  0.41472498\n",
      "  -0.53815855 -2.78439143  0.65025606 -3.4417116   1.13204784 -0.20660848\n",
      "   1.37065761  2.5535309   1.02143963 -2.16491315 -3.52071494  2.10102017\n",
      "   2.27309969  0.87781263 -0.86388436 -2.03924423 -2.07409268  2.54466268\n",
      "   0.99005385 -0.63830976  1.41277379 -1.55827941 -1.34745052  1.67822546\n",
      "   1.82115625 -0.11025932 -1.86039712  0.39306473 -1.67933318  0.68295993\n",
      "  -3.17485909  0.93441164  0.08176784  0.15208035  0.69773305  1.73201997\n",
      "  -0.9910975  -2.95713221]] \n",
      "\n",
      "W1: [[52.46246708 22.03951256]\n",
      " [18.52498906 22.62219818]\n",
      " [25.27926572 33.96155859]] \n",
      " W2: [[52.72314973 21.83296658]\n",
      " [16.64648519 24.1105881 ]\n",
      " [26.61730445 32.90139396]]\n",
      "H1: [[1.52581603 0.74315312]\n",
      " [0.74315312 2.91539132]] \n",
      " H2: [[-3.41036109e-01  1.89105988e+00  1.63324120e+00 -1.93204524e+00\n",
      "  -1.77494189e+00 -1.96196681e+00  2.46869777e+00  2.30968985e-01\n",
      "  -4.55986224e-01  4.12780446e-01 -6.80126850e-01 -1.59960890e-01\n",
      "  -1.34034148e+00  3.54620467e-01 -9.52857337e-01 -2.97847026e-01\n",
      "   1.38979199e+00 -2.71506646e-01  1.35491126e+00 -9.81678403e-01\n",
      "  -1.32359290e+00 -1.19781098e-01 -8.18116561e-01 -1.30697095e+00\n",
      "  -4.30639081e-01  1.80881741e+00 -1.11128573e+00 -3.21326027e-01\n",
      "  -8.74102001e-01  2.50679312e-01  5.90325132e-01  4.70998144e-01\n",
      "   9.76394549e-01  7.91690157e-01  1.94040045e-03  2.62508928e-01\n",
      "  -4.03499809e-01 -3.37622164e+00 -7.68393091e-01 -9.44007555e-01\n",
      "  -1.29174402e+00 -1.72947025e+00  1.08203327e-01 -2.02867729e+00\n",
      "   4.87574451e-01 -2.06541572e-01  6.91341522e-01  1.39724823e+00\n",
      "   2.23217416e+00  9.48390905e-01]\n",
      " [ 3.02828012e+00  7.74020976e-01  1.52272877e+00 -6.80968639e-01\n",
      "   2.46106388e-01 -1.47812764e-01  8.31626782e-01  1.18521885e+00\n",
      "  -3.53531260e+00 -1.04557325e+00  1.32325497e+00  4.20881406e-01\n",
      "  -5.70704477e-01 -2.82085697e+00  6.40837057e-01 -3.41122129e+00\n",
      "   1.14141716e+00 -1.80360946e-01  1.32860563e+00  2.56028566e+00\n",
      "   1.05377399e+00 -2.16566337e+00 -3.53173927e+00  2.11116417e+00\n",
      "   2.34340821e+00  8.08349249e-01 -8.26175410e-01 -2.04052161e+00\n",
      "  -2.05838141e+00  2.65412488e+00  9.86549092e-01 -6.11400607e-01\n",
      "   1.37923278e+00 -1.58657402e+00 -1.27994194e+00  1.74564892e+00\n",
      "   1.85415054e+00 -1.63433888e-01 -1.86391313e+00  4.17103201e-01\n",
      "  -1.63074702e+00  6.40006014e-01 -3.12018130e+00  9.43106295e-01\n",
      "   8.47391641e-02  1.41704091e-01  6.79492441e-01  1.70897694e+00\n",
      "  -1.01184548e+00 -2.92432207e+00]] \n",
      "\n",
      "W1: [[52.4657717  22.17614729]\n",
      " [18.10013819 22.29199727]\n",
      " [25.90666703 34.47041335]] \n",
      " W2: [[52.70319629 21.98234955]\n",
      " [16.60909746 23.50905877]\n",
      " [26.913683   33.6484369 ]]\n",
      "H1: [[1.52631176 0.74689012]\n",
      " [0.74689012 2.91412866]] \n",
      " H2: [[-0.32988265  1.90809881  1.627952   -1.92563942 -1.77934187 -1.95328823\n",
      "   2.47941688  0.22798274 -0.44842431  0.40417411 -0.65687205 -0.16016346\n",
      "  -1.32806566  0.35623371 -0.94512923 -0.31869984  1.38698424 -0.28010057\n",
      "   1.36983313 -0.97273618 -1.32732653 -0.12654737 -0.82431052 -1.29983302\n",
      "  -0.44486468  1.82988115 -1.12369795 -0.32697743 -0.88401354  0.22280532\n",
      "   0.59330422  0.45882189  0.98964439  0.79365185 -0.02471989  0.24543708\n",
      "  -0.40710782 -3.35051948 -0.77155925 -0.9481244  -1.31001069 -1.70865978\n",
      "   0.07929223 -2.0231563   0.48562647 -0.20210037  0.69789692  1.40706033\n",
      "   2.22988487  0.92521757]\n",
      " [ 3.02678816  0.72750057  1.53743555 -0.69007557  0.26929651 -0.15810952\n",
      "   0.7973341   1.20018973 -3.57812059 -1.03535276  1.28142621  0.42558145\n",
      "  -0.59668606 -2.84866208  0.63285794 -3.38543287  1.14865339 -0.15937702\n",
      "   1.29470014  2.56436884  1.07887848 -2.16533136 -3.53913833  2.11809038\n",
      "   2.3984283   0.75287296 -0.79591307 -2.04070303 -2.04509469  2.74039378\n",
      "   0.98342659 -0.58956061  1.35202944 -1.60831775 -1.22548187  1.79875775\n",
      "   1.87960076 -0.2064426  -1.8660427   0.43593541 -1.59148015  0.60510978\n",
      "  -3.07513507  0.94925528  0.08716476  0.13331928  0.66475934  1.69008794\n",
      "  -1.02754927 -2.89666407]] \n",
      "\n",
      "W1: [[52.44669285 22.26920432]\n",
      " [17.7393543  22.02709933]\n",
      " [26.39072912 34.86824976]] \n",
      " W2: [[52.65135884 22.09631058]\n",
      " [16.57537934 23.01037939]\n",
      " [27.14342623 34.23240098]]\n",
      "H1: [[1.52681802 0.74985958]\n",
      " [0.74985958 2.91300445]] \n",
      " H2: [[-0.32021978  1.92175445  1.62372271 -1.92029893 -1.78258963 -1.94600088\n",
      "   2.48788325  0.22576119 -0.44292144  0.39694559 -0.63769599 -0.160222\n",
      "  -1.31804209  0.35694003 -0.93860907 -0.33619034  1.38472553 -0.28704932\n",
      "   1.38196305 -0.96485759 -1.32994611 -0.13242419 -0.82988439 -1.29345287\n",
      "  -0.45585827  1.84681267 -1.13373612 -0.33189775 -0.89230212  0.20072554\n",
      "   0.59581779  0.44877987  1.00048761  0.79481384 -0.04654206  0.23192097\n",
      "  -0.40960823 -3.32924807 -0.77436748 -0.95123406 -1.32491523 -1.69143725\n",
      "   0.05527649 -2.01820294  0.4839937  -0.19844817  0.70322996  1.41512266\n",
      "   2.22750298  0.90575737]\n",
      " [ 3.02471638  0.69064147  1.54886611 -0.69733962  0.28739193 -0.16646953\n",
      "   0.7702216   1.21175268 -3.61111796 -1.02690857  1.24781787  0.42916952\n",
      "  -0.61728405 -2.86986852  0.62623761 -3.36407382  1.1542395  -0.14272716\n",
      "   1.26761929  2.56676877  1.09832043 -2.16447673 -3.54411465  2.12282971\n",
      "   2.44133057  0.70889547 -0.77183075 -2.04031502 -2.03409397  2.80806123\n",
      "   0.98074765 -0.57202081  1.33020051 -1.62501175 -1.18195655  1.84039712\n",
      "   1.89920521 -0.2408997  -1.86730294  0.45063032 -1.56005742  0.57705933\n",
      "  -3.03854345  0.95361724  0.08912326  0.12660829  0.65297573  1.67480839\n",
      "  -1.03944058 -2.87380706]] \n",
      "\n",
      "W1: [[52.41521068 22.32995159]\n",
      " [17.43746677 21.81401798]\n",
      " [26.75941424 35.17672479]] \n",
      " W2: [[52.58442931 22.18094138]\n",
      " [16.54267898 22.60194849]\n",
      " [27.31806216 34.68479168]]\n",
      "H1: [[1.52730275 0.75211959]\n",
      " [0.75211959 2.91203669]] \n",
      " H2: [[-0.31220079  1.93249654  1.62040281 -1.91598008 -1.78498419 -1.94007821\n",
      "   2.49447216  0.22411331 -0.43891593  0.39106872 -0.62230177 -0.16020809\n",
      "  -1.31005172  0.35715652 -0.93329234 -0.35039793  1.38294494 -0.29255048\n",
      "   1.39160365 -0.95824947 -1.33179182 -0.13730935 -0.8346218  -1.28805387\n",
      "  -0.46426997  1.86016044 -1.14168478 -0.33599425 -0.89902172  0.1835089\n",
      "   0.59786812  0.44071761  1.00914677  0.79549105 -0.06396989  0.22138596\n",
      "  -0.41134891 -3.31213002 -0.7767334  -0.95357083 -1.33679253 -1.67757712\n",
      "   0.03589796 -2.01400241  0.48266835 -0.19552194  0.70747101  1.42157984\n",
      "   2.22531443  0.88993771]\n",
      " [ 3.02252108  0.66156004  1.55774948 -0.70310593  0.30149204 -0.17319715\n",
      "   0.74886896  1.22068936 -3.63657774 -1.02002664  1.22100291  0.43191502\n",
      "  -0.63354812 -2.88608309  0.62082396 -3.34663731  1.15855754 -0.12957444\n",
      "   1.24611632  2.56813502  1.11337684 -2.16343037 -3.5474855   2.12609595\n",
      "   2.47474856  0.67418268 -0.75276384 -2.03967492 -2.02511728  2.86102639\n",
      "   0.97850595 -0.55803119  1.31280431 -1.63784726 -1.14737484  1.87297813\n",
      "   1.91432157 -0.26833557 -1.8680302   0.46208172 -1.53506905  0.55466894\n",
      "  -3.00910248  0.9567343   0.09069272  0.12126981  0.64360938  1.66255702\n",
      "  -1.04847269 -2.85517556]] \n",
      "\n",
      "W1: [[52.37874667 22.36759589]\n",
      " [17.18738189 21.64153124]\n",
      " [27.03747922 35.41449677]] \n",
      " W2: [[52.51394005 22.24215451]\n",
      " [16.5100149  22.2700372 ]\n",
      " [27.44862671 35.03300689]]\n",
      "H1: [[1.52773767 0.75375986]\n",
      " [0.75375986 2.91122252]] \n",
      " H2: [[-0.30577445  1.94078777  1.61784569 -1.9125811  -1.78674192 -1.93540031\n",
      "   2.49951808  0.2228985  -0.43600914  0.38642498 -0.61024553 -0.16016331\n",
      "  -1.30382598  0.35713061 -0.92908285 -0.36161835  1.38156946 -0.29681604\n",
      "   1.39910072 -0.95291646 -1.33309457 -0.14122887 -0.83847929 -1.28367151\n",
      "  -0.47062726  1.8704789  -1.14784949 -0.33928461 -0.90432164  0.17030898\n",
      "   0.59949241  0.43440318  1.01590369  0.79587923 -0.07756867  0.21331127\n",
      "  -0.41256363 -3.29870198 -0.77864909 -0.95531244 -1.34604652 -1.66670391\n",
      "   0.02066555 -2.0105887   0.48162248 -0.19323344  0.71077053  1.42662947\n",
      "   2.22344742  0.87743826]\n",
      " [ 3.02044021  0.63864458  1.56466665 -0.70767351  0.31249119 -0.17858269\n",
      "   0.73206879  1.22761538 -3.65628174 -1.01446581  1.19968478  0.43402498\n",
      "  -0.64637361 -2.89853698  0.61643805 -3.33253157  1.16190558 -0.11919983\n",
      "   1.22908711  2.56888111  1.1250636  -2.16237323 -3.54979519  2.12837292\n",
      "   2.50081276  0.64682008 -0.73769808 -2.03896191 -2.01785823  2.90249975\n",
      "   0.97665986 -0.54691218  1.29898795 -1.64775132 -1.11997289  1.89848308\n",
      "   1.92601366 -0.29011477 -1.86843695  0.47101571 -1.51525587  0.5368613\n",
      "  -2.9855452   0.958986    0.09194505  0.1170355   0.63618571  1.65278119\n",
      "  -1.05536951 -2.84011889]] \n",
      "\n",
      "W1: [[52.34213937 22.38910836]\n",
      " [16.98128261 21.50053305]\n",
      " [27.24553061 35.59702703]] \n",
      " W2: [[52.44685838 22.28509541]\n",
      " [16.47713195 22.00128453]\n",
      " [27.54472834 35.2998466 ]]\n",
      "H1: [[1.52810587 0.75487771]\n",
      " [0.75487771 2.9105476 ]] \n",
      " H2: [[-0.30078294  1.94705777  1.61591603 -1.90997539 -1.78802117 -1.93180465\n",
      "   2.50331232  0.22201206 -0.43391504  0.3828537  -0.60103246 -0.16011046\n",
      "  -1.29908662  0.35700312 -0.92584125 -0.37024477  1.38052949 -0.30005232\n",
      "   1.40480135 -0.9487544  -1.33401201 -0.14427591 -0.84150889 -1.28023812\n",
      "  -0.47535852  1.87829063 -1.15252777 -0.34184458 -0.9083929   0.16037822\n",
      "   0.60074421  0.42957773  1.02105423  0.7960978  -0.08793322  0.20723784\n",
      "  -0.41341014 -3.28842993 -0.78014809 -0.95659503 -1.35309263 -1.65838528\n",
      "   0.00899418 -2.00791253  0.48081911 -0.19148644  0.71328026  1.430485\n",
      "   2.2219373   0.86782591]\n",
      " [ 3.01857869  0.62056038  1.57007432 -0.71129352  0.32110163 -0.18288601\n",
      "   0.71882656  1.23300901 -3.67160864 -1.00999098  1.18274279  0.43565675\n",
      "  -0.65650178 -2.90816379  0.61290152 -3.32117084  1.1645141  -0.11100573\n",
      "   1.21559482  2.5692633   1.13417563 -2.16139369 -3.55140177  2.12998426\n",
      "   2.52121467  0.62522012 -0.72578266 -2.03826899 -2.01201372  2.93506658\n",
      "   0.9751533  -0.5380774   1.28801663 -1.65543616 -1.09825238  1.91850638\n",
      "   1.93510392 -0.30740362 -1.86865425  0.47801026 -1.49954302  0.52270452\n",
      "  -2.96673011  0.96063487  0.09294327  0.11367647  0.63030021  1.6449903\n",
      "  -1.06067435 -2.8280016 ]] \n",
      "\n",
      "W1: [[52.30812082 22.39949441]\n",
      " [16.81150161 21.38375544]\n",
      " [27.40003688 35.73677921]] \n",
      " W2: [[52.38673306 22.31396548]\n",
      " [16.44401546 21.78357485]\n",
      " [27.6142537  35.50371454]]\n",
      "H1: [[1.52840143 0.75556529]\n",
      " [0.75556529 2.90999263]] \n",
      " H2: [[-2.97026120e-01  1.95168700e+00  1.61449444e+00 -1.90803326e+00\n",
      "  -1.78893880e+00 -1.92911924e+00  2.50610236e+00  2.21375447e-01\n",
      "  -4.32426413e-01  3.80184892e-01 -5.94179101e-01 -1.60061104e-01\n",
      "  -1.29557139e+00  3.56850002e-01 -9.23416734e-01 -3.76690339e-01\n",
      "   1.37976245e+00 -3.02447241e-01  1.40902717e+00 -9.45611581e-01\n",
      "  -1.33465266e+00 -1.46570767e-01 -8.43807328e-01 -1.27763870e+00\n",
      "  -4.78809497e-01  1.88406271e+00 -1.15599070e+00 -3.43773797e-01\n",
      "  -9.11433368e-01  1.53075578e-01  6.01681402e-01  4.25988191e-01\n",
      "   1.02487910e+00  7.96218345e-01 -9.56286276e-02  2.02772542e-01\n",
      "  -4.13995687e-01 -3.28078406e+00 -7.81282539e-01 -9.57523318e-01\n",
      "  -1.35832089e+00 -1.65219251e+00  2.94964519e-04 -2.00588589e+00\n",
      "   4.80219432e-01 -1.90187919e-01  7.15141201e-01  1.43335192e+00\n",
      "   2.22076956e+00  8.60642772e-01]\n",
      " [ 3.01696586e+00  6.06227375e-01  1.57432807e+00 -7.14172157e-01\n",
      "   3.27882335e-01 -1.86329902e-01  7.08341113e-01  1.23723855e+00\n",
      "  -3.68361642e+00 -1.00639025e+00  1.16924106e+00  4.36929127e-01\n",
      "  -6.64533080e-01 -2.91566741e+00  6.10051466e-01 -3.31202325e+00\n",
      "   1.16656034e+00 -1.04507144e-01  1.20486780e+00  2.56943677e+00\n",
      "   1.14132811e+00 -2.16052627e+00 -3.55253955e+00  2.13114511e+00\n",
      "   2.53727969e+00  6.08096774e-01 -7.16322592e-01 -2.03763815e+00\n",
      "  -2.00730889e+00  2.96077584e+00  9.73928080e-01 -5.31037720e-01\n",
      "   1.27927858e+00 -1.66144472e+00 -1.08097752e+00  1.93431063e+00\n",
      "   1.94222282e+00 -3.21169439e-01 -1.86876142e+00  4.83518905e-01\n",
      "  -1.48704132e+00  5.11419622e-01 -2.95167734e+00  9.61861545e-01\n",
      "   9.37405878e-02  1.11003304e-01  6.25618621e-01  1.63876774e+00\n",
      "  -1.06479245e+00 -2.81825064e+00]] \n",
      "\n",
      "W1: [[52.27793179 22.4022205 ]\n",
      " [16.67104679 21.28546183]\n",
      " [27.5138209  35.84361011]] \n",
      " W2: [[52.33483956 22.33206569]\n",
      " [16.41068293 21.60643343]\n",
      " [27.66344136 35.65916088]]\n",
      "H1: [[1.52862636 0.75590367]\n",
      " [0.75590367 2.90953734]] \n",
      " H2: [[-0.29429974  1.95500029  1.61347928 -1.90663428 -1.7895817  -1.9271818\n",
      "   2.50809365  0.22092946 -0.43139186  0.37825811 -0.58924771 -0.16002033\n",
      "  -1.29304769  0.35670914 -0.9216654  -0.38134369  1.37921438 -0.30416409\n",
      "   1.41206063 -0.94332563 -1.33509196 -0.14823708 -0.84548515 -1.27574459\n",
      "  -0.48125673  1.88819624 -1.15847386 -0.34517529 -0.91362782  0.14786544\n",
      "   0.60235914  0.42340533  1.0276283   0.79628312 -0.10115848  0.19958721\n",
      "  -0.41439383 -3.27528067 -0.78210933 -0.95817795 -1.36207652 -1.64773425\n",
      "  -0.00597393 -2.00440919  0.47978696 -0.18925412  0.71647735  1.43541474\n",
      "   2.21990647  0.85545684]\n",
      " [ 3.01559157  0.59478593  1.57770288 -0.71647564  0.33326763 -0.18909956\n",
      "   0.6999771   1.24058602 -3.69311291 -1.0034819   1.15841684  0.43793159\n",
      "  -0.67094624 -2.92157724  0.60774684 -3.30463057  1.16818006 -0.09931705\n",
      "   1.19628373  2.56949356  1.14699379 -2.15977625 -3.55336189  2.13199846\n",
      "   2.55003706  0.59442556 -0.70876076 -2.0370829  -2.00350723  2.98123314\n",
      "   0.97293025 -0.52539477  1.2722765  -1.66618912 -1.0671503   1.94688456\n",
      "   1.94785119 -0.33219712 -1.8688057   0.48789412 -1.47703134  0.50237105\n",
      "  -2.93957287  0.96279039  0.09438085  0.10886264  0.6218708   1.63377024\n",
      "  -1.06802547 -2.81037419]] \n",
      "\n",
      "W1: [[52.25187288 22.39963255]\n",
      " [16.55384726 21.2011595 ]\n",
      " [27.59670905 35.9252139 ]] \n",
      " W2: [[52.29110318 22.34193073]\n",
      " [16.37711768 21.46110187]\n",
      " [27.69711564 35.77753106]]\n",
      "H1: [[1.52878727 0.75596109]\n",
      " [0.75596109 2.90916275]] \n",
      " H2: [[-0.29241565  1.95726727  1.61278634 -1.90567312 -1.79001482 -1.92584898\n",
      "   2.50945353  0.22062932 -0.43069995  0.37693166 -0.58586101 -0.1599897\n",
      "  -1.29131761  0.35659694 -0.92045939 -0.38454743  1.37884021 -0.30534001\n",
      "   1.41414061 -0.94174346 -1.33538299 -0.14938912 -0.84664977 -1.27443202\n",
      "  -0.48291937  1.89102547 -1.16017515 -0.34614464 -0.91513852  0.14430974\n",
      "   0.60282643  0.42163155  1.02951511  0.79631667 -0.10495259  0.19741362\n",
      "  -0.41465563 -3.27150081 -0.78268264 -0.95862101 -1.36465289 -1.64467161\n",
      "  -0.01028405 -2.00338611  0.47948954 -0.18861311  0.71739369  1.43683172\n",
      "   2.21930263  0.85188666]\n",
      " [ 3.01442778  0.58555983  1.58041044 -0.71833619  0.33759278 -0.19134561\n",
      "   0.69323623  1.24326669 -3.7007132  -1.00111502  1.14965925  0.43873146\n",
      "  -0.67611847 -2.92629132  0.60586978 -3.2986114   1.16947699 -0.09513038\n",
      "   1.1893482   2.56948715  1.15153442 -2.1591345  -3.55396967  2.1326398\n",
      "   2.56028115  0.58340001 -0.70265652 -2.03660194 -2.00041209  2.99768668\n",
      "   0.97211283 -0.5208297   1.266613   -1.66998153 -1.05597685  1.95699646\n",
      "   1.95235478 -0.34111346 -1.86881474  0.49140805 -1.46894012  0.49504936\n",
      "  -2.9297558   0.96350748  0.09489944  0.10713224  0.61884176  1.62972081\n",
      "  -1.07059803 -2.80396385]] \n",
      "\n",
      "W1: [[52.22971863 22.39329779]\n",
      " [16.45481011 21.12734932]\n",
      " [27.65616294 35.9875443 ]] \n",
      " W2: [[52.25475027 22.34548159]\n",
      " [16.343263   21.34043003]\n",
      " [27.71895778 35.86759167]]\n",
      "H1: [[1.52889274 0.75579329]\n",
      " [0.75579329 2.90885224]] \n",
      " H2: [[-0.29121054  1.95870702  1.61234734 -1.9050612  -1.79028689 -1.92499955\n",
      "   2.51031615  0.22044113 -0.43026818  0.37608561 -0.58370468 -0.15996898\n",
      "  -1.29021764  0.35651829 -0.91969007 -0.38659116  1.3786032  -0.30608732\n",
      "   1.41546364 -0.94073042 -1.33556346 -0.15012629 -0.84739724 -1.27359091\n",
      "  -0.48396963  1.89282271 -1.16125668 -0.34676511 -0.91610225  0.14205628\n",
      "   0.60312492  0.42050221  1.03071605  0.79633299 -0.10736674  0.19603623\n",
      "  -0.41481691 -3.26909435 -0.78305038 -0.95890019 -1.36629219 -1.64272135\n",
      "  -0.01303073 -2.00273076  0.47930005 -0.18820513  0.71797665  1.43773431\n",
      "   2.21891324  0.84960946]\n",
      " [ 3.01344062  0.57802159  1.58261315 -0.71985789  0.34111545 -0.19318852\n",
      "   0.68773073  1.24544457 -3.70688501 -0.99916716  1.14248521  0.43937944\n",
      "  -0.6803445  -2.93010914  0.60432417 -3.29365569  1.17053031 -0.09170877\n",
      "   1.18367263  2.56944794  1.15522607 -2.15858595 -3.55442982  2.13313343\n",
      "   2.56862253  0.57439069 -0.69766476 -2.03618718 -1.99786378  3.0111014\n",
      "   0.97143649 -0.51709041  1.26197439 -1.67305829 -1.04683261  1.96523998\n",
      "   1.95601145 -0.34841313 -1.8688045   0.49426991 -1.46231649  0.48905134\n",
      "  -2.92169829  0.96407289  0.09532454  0.10571574  0.61636234  1.62639926\n",
      "  -1.07267774 -2.79868812]] \n",
      "\n",
      "W1: [[52.21099433 22.38425803]\n",
      " [16.36976675 21.06131674]\n",
      " [27.69782175 36.03518151]] \n",
      " W2: [[52.22472291 22.34416415]\n",
      " [16.30903533 21.23868089]\n",
      " [27.73175623 35.93607696]]\n",
      "H1: [[1.52895172 0.75544489]\n",
      " [0.75544489 2.90859175]] \n",
      " H2: [[-0.29054797  1.95949464  1.61210779 -1.90472606 -1.79043464 -1.92453391\n",
      "   2.51078774  0.2203392  -0.43003515  0.37562142 -0.58252312 -0.15995715\n",
      "  -1.28961564  0.35647231 -0.91926801 -0.38771265  1.37847393 -0.30649628\n",
      "   1.41618821 -0.94017309 -1.33566052 -0.15053172 -0.8478093  -1.27312795\n",
      "  -0.48454181  1.89380603 -1.16184872 -0.34710647 -0.91663118  0.14082568\n",
      "   0.60328892  0.41988341  1.03137406  0.79633997 -0.10868899  0.19528411\n",
      "  -0.41490315 -3.26777603 -0.78325304 -0.95905208 -1.36719014 -1.6416527\n",
      "  -0.01453679 -2.00237022  0.4791962  -0.18798165  0.71829595  1.43822916\n",
      "   2.21869806  0.84836005]\n",
      " [ 3.01259665  0.5717622   1.58443535 -0.72112201  0.34403313 -0.19472354\n",
      "   0.68316048  1.2472445  -3.71198382 -0.99754051  1.13651621  0.43991375\n",
      "  -0.68385314 -2.93325641  0.60303301 -3.28951553  1.17140034 -0.08886717\n",
      "   1.17895397  2.56939273  1.15827923 -2.1581142  -3.55478723  2.13352311\n",
      "   2.57552925  0.56690932 -0.693517   -2.03582808 -1.99573468  3.02222031\n",
      "   0.97086911 -0.51397948  1.2581152  -1.67559841 -1.03923009  1.97207214\n",
      "   1.95903218 -0.3544832  -1.868784    0.49664012 -1.45680812  0.48406088\n",
      "  -2.91498365  0.96452897  0.09567834  0.10453788  0.61430049  1.6236324\n",
      "  -1.07439003 -2.7942822 ]] \n",
      "\n",
      "W1: [[52.19514423 22.3732065 ]\n",
      " [16.29536523 21.00096148]\n",
      " [27.72593868 36.07163554]] \n",
      " W2: [[52.19991917 22.33906323]\n",
      " [16.27433913 21.1513089 ]\n",
      " [27.73761548 35.98814051]]\n",
      "H1: [[1.52897251 0.75495108]\n",
      " [0.75495108 2.90836983]] \n",
      " H2: [[-0.29031695  1.95976833  1.61202477 -1.90460959 -1.79048574 -1.92437195\n",
      "   2.51095157  0.22030406 -0.42995502  0.37545983 -0.58211215 -0.15995292\n",
      "  -1.28940646  0.35645559 -0.91912109 -0.38810317  1.37842916 -0.3066384\n",
      "   1.41644018 -0.93997869 -1.33569385 -0.15067313 -0.84795328 -1.27296642\n",
      "  -0.48474     1.89414773 -1.16205454 -0.34722556 -0.91681539  0.14039872\n",
      "   0.6033461   0.41966819  1.03160295  0.79634192 -0.10914876  0.19502318\n",
      "  -0.41493261 -3.26731764 -0.78332385 -0.95910465 -1.36750244 -1.64128103\n",
      "  -0.01506091 -2.0022445   0.47916009 -0.18790394  0.71840701  1.4384014\n",
      "   2.21862281  0.84792509]\n",
      " [ 3.01186576  0.56646583  1.5859721  -0.72219165  0.34649695 -0.19602529\n",
      "   0.67929406  1.24876149 -3.71627978 -0.99615788  1.13145762  0.44036326\n",
      "  -0.68682125 -2.93590348  0.60193533 -3.28599503  1.17213304 -0.08646254\n",
      "   1.17495717  2.56933045  1.16085423 -2.15770373 -3.55507235  2.13383901\n",
      "   2.58135949  0.56057872 -0.69000544 -2.03551398 -1.99392402  3.03161401\n",
      "   0.97038494 -0.51134323  1.25484457 -1.67773752 -1.03279099  1.97784383\n",
      "   1.96157726 -0.35962457 -1.86875819  0.49864143 -1.45214145  0.47983184\n",
      "  -2.90928571  0.96490588  0.09597817  0.10354017  0.61255373  1.62128503\n",
      "  -1.07582903 -2.79053703]] \n",
      "\n",
      "W1: [[52.18162406 22.36060688]\n",
      " [16.22894482 20.94466102]\n",
      " [27.74371991 36.0995895 ]] \n",
      " W2: [[52.17931717 22.33099172]\n",
      " [16.23907783 21.07474522]\n",
      " [27.73812133 36.02771685]]\n",
      "H1: [[1.52896237 0.75433926]\n",
      " [0.75433926 2.90817724]] \n",
      " H2: [[-0.29042885  1.95963607  1.61206478 -1.90466584 -1.79046111 -1.92445023\n",
      "   2.51087239  0.22032094 -0.42999343  0.375538   -0.58231085 -0.159955\n",
      "  -1.2895075   0.35646392 -0.91919215 -0.38791419  1.37845072 -0.30656972\n",
      "   1.41631835 -0.94007286 -1.33567786 -0.15060462 -0.84788342 -1.27304467\n",
      "  -0.48464445  1.8939826  -1.16195505 -0.34716784 -0.91672622  0.14060478\n",
      "   0.6033184   0.41977223  1.03149226  0.79634114 -0.1089265   0.19514911\n",
      "  -0.41491855 -3.26753917 -0.78328949 -0.9590793  -1.36735143 -1.6414607\n",
      "  -0.0148074  -2.00230536  0.47917754 -0.1879415   0.7183533   1.43831806\n",
      "   2.2186593   0.84813552]\n",
      " [ 3.01122222  0.56188932  1.58729598 -0.72311558  0.34862245 -0.19715184\n",
      "   0.67595347  1.25006785 -3.71997832 -0.99495879  1.12708122  0.44074981\n",
      "  -0.68938509 -2.93817917  0.60098331 -3.28294067  1.17276342 -0.08438466\n",
      "   1.17150064  2.56926556  1.16307324 -2.15734092 -3.55530611  2.13410218\n",
      "   2.58638708  0.55510843 -0.68696977 -2.03523516 -1.99235283  3.03971999\n",
      "   0.96996358 -0.50906265  1.25201476 -1.67957856 -1.02722287  1.982824\n",
      "   1.96376849 -0.36407014 -1.86872968  0.50036771 -1.44810492  0.47617345\n",
      "  -2.90435073  0.96522536  0.0962375   0.10267738  0.61104283  1.61925213\n",
      "  -1.0770656  -2.78728889]] \n",
      "\n",
      "W1: [[52.16994551 22.34677167]\n",
      " [16.16841286 20.89116263]\n",
      " [27.75358295 36.12109102]] \n",
      " W2: [[52.16202817 22.32055859]\n",
      " [16.20316032 21.00620606]\n",
      " [27.73446826 36.05780527]]\n",
      "H1: [[1.52892741 0.7536306 ]\n",
      " [0.7536306  2.90800668]] \n",
      " H2: [[-0.29081385  1.95918155  1.61220189 -1.90485893 -1.79037654 -1.92471908\n",
      "   2.51060021  0.22037867 -0.43012463  0.37580677 -0.58299365 -0.15996225\n",
      "  -1.28985446  0.35649315 -0.91943637 -0.38726431  1.37852453 -0.30633377\n",
      "   1.41589956 -0.94039688 -1.33562317 -0.15036882 -0.84764268 -1.27331393\n",
      "  -0.48431676  1.89341518 -1.1616131  -0.34696916 -0.91641948  0.14131206\n",
      "   0.60322304  0.42012978  1.03111172  0.79633877 -0.10816276  0.19558129\n",
      "  -0.41487063 -3.26830008 -0.78317105 -0.95899232 -1.36683236 -1.64207799\n",
      "  -0.01393591 -2.00251463  0.47923746 -0.18807056  0.71816869  1.43803141\n",
      "   2.21878485  0.848859  ]\n",
      " [ 3.01064469  0.55784576  1.58846242 -0.72393138  0.35049794 -0.19814819\n",
      "   0.67300203  1.25121865 -3.72323574 -0.99389615  1.12321076  0.44108993\n",
      "  -0.6916494  -2.94018105  0.60013967 -3.28023285  1.17331812 -0.08254877\n",
      "   1.16844443  2.56920003  1.16502938 -2.15701425 -3.55550308  2.13432749\n",
      "   2.59082129  0.55027516 -0.6842866  -2.03498322 -1.99095962  3.04687327\n",
      "   0.96958898 -0.50704585  1.24951174 -1.68119968 -1.02230033  1.98721862\n",
      "   1.96569852 -0.3679996  -1.86869973  0.50189073 -1.44453541  0.4729384\n",
      "  -2.89998209  0.9655032   0.09646673  0.10191462  0.60970671  1.61745249\n",
      "  -1.07815323 -2.78441027]] \n",
      "\n",
      "W1: [[52.15969231 22.33191324]\n",
      " [16.11213411 20.83949857]\n",
      " [27.7573516  36.13770112]] \n",
      " W2: [[52.14730945 22.30821988]\n",
      " [16.16650384 20.94352963]\n",
      " [27.72755588 36.08068999]]\n",
      "H1: [[1.52887259 0.75284133]\n",
      " [0.75284133 2.90785243]] \n",
      " H2: [[-0.29141758  1.95846926  1.61241613 -1.90516103 -1.79024396 -1.92513997\n",
      "   2.51017345  0.2204688  -0.43032927  0.37622796 -0.58406341 -0.15997369\n",
      "  -1.29039766  0.35653955 -0.91981898 -0.38624553  1.37863973 -0.30596411\n",
      "   1.41524314 -0.94090493 -1.33553763 -0.14999894 -0.8472647  -1.27373607\n",
      "  -0.48380397  1.89252603 -1.16107718 -0.34665743 -0.91593843  0.14241927\n",
      "   0.60307337  0.42068992  1.03051525  0.79633536 -0.10696617  0.19625781\n",
      "  -0.41479598 -3.26949158 -0.78298503 -0.95885608 -1.36601878 -1.64304488\n",
      "  -0.01257013 -2.00284246  0.47933126 -0.18827274  0.71787928  1.43758186\n",
      "   2.21898154  0.84999282]\n",
      " [ 3.01011583  0.55419164  1.58951372 -0.72466794  0.35219095 -0.19904912\n",
      "   0.67033482  1.25225582 -3.72617105 -0.99293347  1.11971042  0.44139619\n",
      "  -0.69369464 -2.94198317  0.59937548 -3.27777874  1.17381745 -0.08088977\n",
      "   1.16568084  2.5691345   1.16679365 -2.15671425 -3.55567346  2.13452557\n",
      "   2.59482207  0.5459074  -0.68186106 -2.03475113 -1.98969664  3.05333041\n",
      "   0.9692486  -0.50522202  1.24724764 -1.68266035 -1.01784989  1.99118535\n",
      "   1.96743789 -0.37155133 -1.86866886  0.50326533 -1.44130734  0.47001314\n",
      "  -2.89602787  0.96575101  0.09667392  0.10122502  0.60849835  1.61582337\n",
      "  -1.07913242 -2.78180229]] \n",
      "\n",
      "W1: [[52.15052106 22.31617691]\n",
      " [16.05883622 20.78892008]\n",
      " [27.7564025  36.15060915]] \n",
      " W2: [[52.1345565  22.29431686]\n",
      " [16.12903479 20.88504198]\n",
      " [27.71806174 36.09810969]]\n",
      "[[-7.50614717e-01  1.31635732e+00  1.24614003e+00 -1.60491574e+00\n",
      "  -1.46814368e+00 -1.71507046e+00  1.85878369e+00  8.75879763e-02\n",
      "  -5.23221964e-02  5.55471637e-01 -9.63403694e-01 -1.80321465e-01\n",
      "  -1.18340916e+00  6.05445921e-01 -9.51650553e-01  3.60856060e-01\n",
      "   1.06061026e+00 -1.17152178e-01  8.25664851e-01 -1.20981355e+00\n",
      "  -1.19050362e+00  2.19871821e-01 -2.12919130e-01 -1.41149914e+00\n",
      "  -4.82981016e-01  1.20176208e+00 -7.05803033e-01  2.51813547e-02\n",
      "  -3.91128155e-01  1.93139124e-01  3.49290932e-01  5.91188382e-01\n",
      "   5.20409870e-01  8.25222389e-01  4.26203507e-01  1.95640026e-01\n",
      "  -5.14112178e-01 -3.07368882e+00 -3.95159070e-01 -7.95399184e-01\n",
      "  -7.03201512e-01 -1.73739268e+00  7.50808258e-01 -1.86395314e+00\n",
      "   4.18510984e-01 -2.35333837e-01  4.32107174e-01  8.70291930e-01\n",
      "   2.00862219e+00  1.37177091e+00]\n",
      " [ 1.05859789e+00  1.44533756e+00  4.88232904e-02  9.03295203e-02\n",
      "  -4.80256813e-01  3.00662736e-01  1.11297983e+00 -1.93150462e-02\n",
      "  -8.07598399e-04 -6.38530234e-01  1.59468337e+00  1.86129868e-02\n",
      "   5.61408670e-01 -1.98476822e-01  4.63207552e-01 -1.81909398e+00\n",
      "   1.32924819e-01 -6.17079638e-01  1.30817950e+00  7.75837713e-01\n",
      "  -2.80170397e-01 -7.23937713e-01 -9.43310039e-01  5.61686243e-01\n",
      "  -6.92792641e-01  1.70175958e+00 -1.05172261e+00 -6.61151557e-01\n",
      "  -1.01089971e+00 -1.45888071e+00  3.90553333e-01 -8.10444201e-01\n",
      "   1.15767193e+00  3.17631167e-02 -1.89692831e+00 -8.64950954e-01\n",
      "  -5.71974963e-02  1.23101785e+00 -5.33551498e-01 -3.35974342e-01\n",
      "  -1.55572381e+00  1.21863875e+00 -2.25764275e+00  2.21017836e-01\n",
      "  -5.51716492e-02  2.81184498e-01  5.98645681e-01  1.02717436e+00\n",
      "   6.94197136e-03 -1.75330973e+00]\n",
      " [ 1.54923038e+00 -6.45376819e-01  8.79338162e-01 -3.18381870e-01\n",
      "   7.27357907e-01 -6.55816768e-02 -4.51052294e-01  8.53530308e-01\n",
      "  -2.53568226e+00 -3.87483506e-01 -2.10749839e-02  3.16222125e-01\n",
      "  -6.29815554e-01 -1.97968150e+00  2.76684719e-01 -1.23644371e+00\n",
      "   5.73334638e-01  3.18485719e-01 -7.87196880e-02  1.47719317e+00\n",
      "   1.12812904e+00 -1.08470932e+00 -1.85112688e+00  1.33313831e+00\n",
      "   2.24091373e+00 -7.83068449e-01  2.43543790e-01 -1.01005284e+00\n",
      "  -7.17658005e-01  2.90084818e+00  3.85936084e-01  3.98201731e-02\n",
      "   1.07510718e-01 -1.28453573e+00  3.41980156e-01  1.83181263e+00\n",
      "   1.44934311e+00 -5.28121837e-01 -9.10642768e-01  6.51202061e-01\n",
      "   1.63481318e-02 -1.36787137e-01 -7.77654562e-01  7.96829721e-01\n",
      "   3.83116319e-02 -6.00691302e-02  7.48799734e-03  3.84785474e-01\n",
      "  -1.02671931e+00 -1.07990219e+00]]\n",
      "(3, 2)\n",
      "[[1.17797732 0.2087255 ]\n",
      " [0.34645526 0.84559617]\n",
      " [0.14539624 1.46598459]]\n",
      "[[-0.80267244  1.36060009  0.90024422 -1.28755122 -1.41040407 -1.40454204\n",
      "   1.75164169 -0.07776795  0.40059172  0.47474941 -0.65515775 -0.20559119\n",
      "  -0.83270751  0.83826749 -0.8058675   0.3466136   0.80567418 -0.21366554\n",
      "   0.83469297 -1.20397126 -1.22763569  0.30613543  0.05494692 -1.36912669\n",
      "  -0.86629273  1.31277382 -0.73805959  0.13504014 -0.30046357 -0.48583546\n",
      "   0.26397705  0.41342366  0.53045239  0.92354565  0.11736057 -0.23933129\n",
      "  -0.69279653 -2.37885053 -0.22428498 -0.81647817 -0.74429769 -1.32292411\n",
      "   0.55264664 -1.68885933  0.34056615 -0.16078402  0.42005637  0.7640741\n",
      "   1.8728926   1.17709454]\n",
      " [ 1.24297945 -0.16167407  0.31355534  0.08413558  0.48627001  0.29518286\n",
      "  -0.2229733   0.45078035 -1.3851298  -0.4643786   0.55468435  0.20502201\n",
      "  -0.02297159 -1.22876441  0.41476171 -1.21695439  0.19508302  0.02750018\n",
      "   0.18477192  1.19522359  0.71909032 -0.82094456 -1.23700905  1.08852179\n",
      "   1.11663268 -0.1521408  -0.04340636 -0.73470541 -0.60645967  1.17581188\n",
      "   0.2649776  -0.28077919  0.29159016 -0.81776629 -0.38041951  0.74672422\n",
      "   0.85595945  0.48810788 -0.58456125  0.38445687 -0.30296217  0.50414013\n",
      "  -1.13901347  0.76936302 -0.05492657  0.07643781  0.10050804  0.3578575\n",
      "  -0.85600059 -1.26140091]]\n"
     ]
    }
   ],
   "source": [
    "np.random.seed(44)\n",
    "# Generate a random matrix X \n",
    "X = np.random.randn(3, 50)\n",
    "snmf_test = SNMF(X, num_bases=2, random_state=44, legacy_mode=True)\n",
    "snmf_test.factorize(niter=20, show_progress=False)\n",
    "H_test = snmf_test.H\n",
    "W_test = snmf_test.W\n",
    "\n",
    "print(X)\n",
    "print(W_test.shape)\n",
    "print(W_test)\n",
    "print(H_test)"
   ]
  },
  {
   "cell_type": "code",
   "execution_count": 16,
   "metadata": {},
   "outputs": [
    {
     "name": "stdout",
     "output_type": "stream",
     "text": [
      "(3, 2)\n",
      "[[1.17797732 0.2087255 ]\n",
      " [0.34645526 0.84559617]\n",
      " [0.14539624 1.46598459]]\n",
      "[[-0.80267244  1.36060009  0.90024422 -1.28755122 -1.41040407 -1.40454204\n",
      "   1.75164169 -0.07776795  0.40059172  0.47474941 -0.65515775 -0.20559119\n",
      "  -0.83270751  0.83826749 -0.8058675   0.3466136   0.80567418 -0.21366554\n",
      "   0.83469297 -1.20397126 -1.22763569  0.30613543  0.05494692 -1.36912669\n",
      "  -0.86629273  1.31277382 -0.73805959  0.13504014 -0.30046357 -0.48583546\n",
      "   0.26397705  0.41342366  0.53045239  0.92354565  0.11736057 -0.23933129\n",
      "  -0.69279653 -2.37885053 -0.22428498 -0.81647817 -0.74429769 -1.32292411\n",
      "   0.55264664 -1.68885933  0.34056615 -0.16078402  0.42005637  0.7640741\n",
      "   1.8728926   1.17709454]\n",
      " [ 1.24297945 -0.16167407  0.31355534  0.08413558  0.48627001  0.29518286\n",
      "  -0.2229733   0.45078035 -1.3851298  -0.4643786   0.55468435  0.20502201\n",
      "  -0.02297159 -1.22876441  0.41476171 -1.21695439  0.19508302  0.02750018\n",
      "   0.18477192  1.19522359  0.71909032 -0.82094456 -1.23700905  1.08852179\n",
      "   1.11663268 -0.1521408  -0.04340636 -0.73470541 -0.60645967  1.17581188\n",
      "   0.2649776  -0.28077919  0.29159016 -0.81776629 -0.38041951  0.74672422\n",
      "   0.85595945  0.48810788 -0.58456125  0.38445687 -0.30296217  0.50414013\n",
      "  -1.13901347  0.76936302 -0.05492657  0.07643781  0.10050804  0.3578575\n",
      "  -0.85600059 -1.26140091]]\n"
     ]
    }
   ],
   "source": [
    "\n",
    "print(W_test.shape)\n",
    "print(W_test)\n",
    "print(H_test)"
   ]
  },
  {
   "cell_type": "code",
   "execution_count": 10,
   "metadata": {},
   "outputs": [
    {
     "name": "stdout",
     "output_type": "stream",
     "text": [
      "Assign: [0 1 1]\n",
      "H1: [[1.52 0.72]\n",
      " [0.72 2.92]] \n",
      " H2: [[-1.43643249  1.91532123  1.2762038  -1.81527414 -1.8410082 ]\n",
      " [-3.36429193  2.27742614 -1.06575741  0.34276532 -0.76904344]] \n",
      "\n",
      "W1: [[7.26156694 0.5343712 ]\n",
      " [2.67528366 2.80252752]\n",
      " [0.5343712  2.00662743]] \n",
      " W2: [[7.26156694 0.53437121]\n",
      " [1.21026116 2.40457748]\n",
      " [1.99939371 2.40457748]]\n",
      "[[-0.75061472  1.31635732  1.24614003 -1.60491574 -1.46814368]\n",
      " [-1.71507046  1.85878369  0.08758798 -0.0523222   0.55547164]\n",
      " [-0.96340369 -0.18032147 -1.18340916  0.60544592 -0.95165055]]\n",
      "(3, 2)\n",
      "[[1.2        0.2       ]\n",
      " [0.29735508 1.29549816]\n",
      " [0.10339567 1.09621371]]\n",
      "[[-0.45206446  1.00841612  1.14639297 -1.4151509  -1.23011037]\n",
      " [-1.04068682  0.53128991 -0.64765765  0.4663267   0.03994385]]\n"
     ]
    }
   ],
   "source": [
    "np.random.seed(44)\n",
    "# Generate a random matrix X \n",
    "X = np.random.randn(3, 5)\n",
    "snmf_test = SNMF(X, num_bases=2, random_state=44, legacy_mode=False)\n",
    "snmf_test.factorize(niter=1, show_progress=False)\n",
    "H_test = snmf_test.H\n",
    "W_test = snmf_test.W\n",
    "\n",
    "print(X)\n",
    "print(W_test.shape)\n",
    "print(W_test)\n",
    "print(H_test)"
   ]
  },
  {
   "cell_type": "code",
   "execution_count": null,
   "metadata": {},
   "outputs": [],
   "source": []
  }
 ],
 "metadata": {
  "kernelspec": {
   "display_name": "Python 3",
   "language": "python",
   "name": "python3"
  },
  "language_info": {
   "codemirror_mode": {
    "name": "ipython",
    "version": 3
   },
   "file_extension": ".py",
   "mimetype": "text/x-python",
   "name": "python",
   "nbconvert_exporter": "python",
   "pygments_lexer": "ipython3",
   "version": "3.11.3"
  }
 },
 "nbformat": 4,
 "nbformat_minor": 2
}
